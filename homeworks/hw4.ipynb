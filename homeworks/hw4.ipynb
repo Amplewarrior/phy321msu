{
 "cells": [
  {
   "cell_type": "markdown",
   "id": "de3f4304",
   "metadata": {
    "editable": true
   },
   "source": [
    "<!-- HTML file automatically generated from DocOnce source (https://github.com/doconce/doconce/)\n",
    "doconce format html hw4.do.txt --no_mako -->\n",
    "<!-- dom:TITLE: PHY321: Classical Mechanics 1 -->"
   ]
  },
  {
   "cell_type": "markdown",
   "id": "0a8a0438",
   "metadata": {
    "editable": true
   },
   "source": [
    "# PHY321: Classical Mechanics 1\n",
    "**Homework 4, due Friday  February 10**\n",
    "\n",
    "Date: **Jan 30, 2023**"
   ]
  },
  {
   "cell_type": "markdown",
   "id": "a493eb50",
   "metadata": {
    "editable": true
   },
   "source": [
    "### Practicalities about  homeworks and projects\n",
    "\n",
    "1. You can work in groups (optimal groups are often 2-3 people) or by yourself. If you work as a group you can hand in one answer only if you wish. **Remember to write your name(s)**!\n",
    "\n",
    "2. Homeworks are available ten days before the deadline.\n",
    "\n",
    "3. How do I(we)  hand in?  You can hand in the paper and pencil exercises as a scanned document. For this homework this applies to exercises 1-5. Alternatively, you can hand in everyhting (if you are ok with typing mathematical formulae using say Latex) as a jupyter notebook at D2L. The numerical exercise(s) (exercise 6 here) should always be handed in as a jupyter notebook by the deadline at D2L."
   ]
  },
  {
   "cell_type": "markdown",
   "id": "367868ea",
   "metadata": {
    "editable": true
   },
   "source": [
    "### Introduction to homework 4\n",
    "\n",
    "This week's sets of classical pen and paper and computational\n",
    "exercises deal with simple motion problems and conservation laws;\n",
    "energy, momentum and angular momentum. These conservation laws are\n",
    "central in Physics and understanding them properly lays the foundation\n",
    "for understanding and analyzing more complicated physics problems.\n",
    "\n",
    "The relevant reading background is\n",
    "1. chapters 3, 4.1, 4.2 and 4.3 of Taylor (there are many good examples there) and\n",
    "\n",
    "2. chapters 10-13 of Malthe-Sørenssen.\n",
    "\n",
    "3. for the numerical exercise see Malthe-Sørenssen section 7.5\n",
    "\n",
    "In both textbooks there are many nice worked out examples. Malthe-Sørenssen's text contains also several coding examples you may find useful. \n",
    "\n",
    "The numerical homework focuses on another motion problem where you can\n",
    "use the code you developed in homework 3, almost entirely. Please take\n",
    "a look at the posted solution (jupyter-notebook) for homework 3. You\n",
    "need only to change the forces at play. The numerical problem this time is based\n",
    "on your code from homework 3 and we will try to make the motion of a falling object in two dimensions more realistic by allowing to bounce up again due to a normal force from the floor."
   ]
  },
  {
   "cell_type": "markdown",
   "id": "605a0355",
   "metadata": {
    "editable": true
   },
   "source": [
    "### Exercise 1 (10 pt), Conservation laws, Energy and momentum\n",
    "\n",
    "* 1a (2pt) How do we define a conservative force?\n",
    "\n",
    "* 1b (4pt) Use the work-energy theorem to show that energy is conserved with a conservative force.\n",
    "\n",
    "* 1c (4pt) Assume that you have only internal two-body forces acting on $N$ objects in an isolated system. The force from object $i$ on object $j$ is $\\boldsymbol{F}_{ij}$. Show that the linear momentum is conserved."
   ]
  },
  {
   "cell_type": "markdown",
   "id": "42747252",
   "metadata": {},
   "source": [
    "<div style=\"background-color:PaleGreen;color:black;padding:2%;\">\n",
    "\n",
    "(a) A conservative force is path-independent, $\\nabla \\times F = 0, F=-\\nabla U$\n",
    "\n",
    "(b) Work-energy theorem -> $\\Delta KE = W$ <br>\n",
    "\n",
    "For any path from point $r_1$ to $r_2$ \n",
    "$$\\Delta E_1 = W = \\int_{r_1}^{r_2} F \\dot dr $$\n",
    "Any other path from point $r_2$ to $r_1$ is\n",
    "$$\\Delta E_2 = \\int_{r_2}^{r_1} F \\dot dr \\\\\n",
    "= -\\int_{r_1}^{r_2} F \\dot dr = -W$$\n",
    "Thus the total change in energy is $$\\Delta E = \\Delta E_1 + \\Delta E_2 = W-W=0$$ and energy is conserved\n",
    "\n",
    "(c) $p_i=m_iv_i, \\dot p_i = F_i $ \n",
    "\n",
    "Isolated-> $F_{ext}=0$ \n",
    "also $F_{ii}=0$\n",
    "\n",
    "Each object experiences an acceleration $a_i = \\frac{1}{m_i} \\sum_{j}^{N}F_{ij}$ \n",
    "$$\n",
    "\\frac{d}{dt}p_i=m_i\\frac{dv_i}{dt}=m_ia_i= \\sum_{j}^{N}F_{ij}\n",
    "$$\n",
    "The sum of all changes is the change in the system\n",
    "$$\n",
    "\\sum_i^N \\frac{d}{dt}p_i = \\sum_i^N\\sum_{j}^{N}F_{ij}\n",
    "$$\n",
    "But since $F_{ij}=-F_{ji}$ (newton's 3rd law) and every combination of $F$ occurs in $\\sum_i^N\\sum_{j}^{N}F_{ij}$, every force is either equal to zero or is canceled by it's inverse inicies\n",
    "$$\n",
    "\\sum_i^N\\sum_{j}^{N}F_{ij} = 0\n",
    "\\sum_i^N \\frac{d}{dt}p_i = 0\n",
    "$$\n",
    "And the total change in linear momentum is zero"
   ]
  },
  {
   "cell_type": "markdown",
   "id": "78d25d0b",
   "metadata": {
    "editable": true
   },
   "source": [
    "### Exercise 2 (10 pt), Conservation of angular momentum\n",
    "\n",
    "* 2a (2pt) Define angular momentum and the torque for a single object with external forces only. \n",
    "\n",
    "* 2b (4pt) Define angular momentum and the torque for a system with $N$ objects/particles  with external and internal forces. The force from object $i$ on object $j$ is $\\boldsymbol{F}_{ij}$.\n",
    "\n",
    "* 2c (4pt) With internal forces only, what is the mathematical form of the forces that allows for angular momentum to be conserved?"
   ]
  },
  {
   "attachments": {
    "image.png": {
     "image/png": "[encoded data removed]"
    }
   },
   "cell_type": "markdown",
   "id": "86649c6b",
   "metadata": {},
   "source": [
    "<div style=\"background-color:PaleGreen;color:black;padding:2%;\">\n",
    "\n",
    "(a) $L = r \\times p$ and $\\Gamma_{ext} = \\dot L = r \\times F_{ext}$\n",
    "\n",
    "Where $r$ is the position vector relative to the axis of rotation, which we may define\n",
    "\n",
    "(b) $L_{system}=\\sum_i^N L_i$ and $\\dot L_i = \\Gamma_{ext}+\\sum_j^N\\Gamma_{ij}= \\Gamma_{ext}+\\sum_j^N (r_{ij} \\times F_{ij})$\n",
    "\n",
    "$r_{ij} $ is trouble, since $r$ is typically defined from the axis of rotation. Since this is important for part (c), we'll use a little snippet from the textbook\n",
    "\n",
    "![image.png](attachment:image.png)\n",
    "\n",
    "Since the torque on an object depends only on force and distance to some center, $r_{ij}=r_j$. However, due to the central assumption, torque is considered in the middle of each particle, so $r_i=r_j=r$. \n",
    "\n",
    "This yields $\\dot L_{system} = \\sum_i^N(\\Gamma_{ext}+\\sum_j^N\\Gamma_{ij}) = \\sum_i^N\\Gamma_{ext}+\\sum_i^N\\sum_j^N\\Gamma_{ij}$\n",
    "\n",
    "(c) $\\dot L_{system} = 0$ In this case $\\Gamma_{ext}=0$\n",
    "\n",
    "$$\n",
    "0=\\sum_i^N\\Gamma_{ext}+\\sum_i^N\\sum_j^N\\Gamma_{ij} \\\\\n",
    "=\\sum_i^N\\sum_j^N\\Gamma_{ij} = \\sum_i^N\\sum_j^N (r_{} \\times F_{ij})\n",
    "$$\n",
    "Thanks to our definition of the origin/axis of rotation, and Newton's third law, each force $F_{ij}$ and its pairing $F{ji}$ (all of which are included in the summation) yield the torques $(r \\times F_{ij}) = r \\times -F{ji} = -(r \\times F{ji})$ and the sum comes to zero."
   ]
  },
  {
   "cell_type": "markdown",
   "id": "2bac1daf",
   "metadata": {
    "editable": true
   },
   "source": [
    "### Exercise 3 (10pt), Example of potential\n",
    "\n",
    "Consider a particle of mass $m$ moving according to the potential"
   ]
  },
  {
   "cell_type": "markdown",
   "id": "34b4f2a9",
   "metadata": {
    "editable": true
   },
   "source": [
    "$$\n",
    "V(x,y,z)=A\\exp\\left\\{-\\frac{x^2+z^2}{2a^2}\\right\\}.\n",
    "$$"
   ]
  },
  {
   "cell_type": "markdown",
   "id": "3f96e015",
   "metadata": {
    "editable": true
   },
   "source": [
    "* 3a (2pt) Is energy conserved? If so, why? \n",
    "\n",
    "* 3b (4pt) Which of  the quantities, $p_x,p_y,p_z$ are conserved?\n",
    "\n",
    "* 3c (4pt) Which of  the quantities, $L_x,L_y,L_z$ are conserved?"
   ]
  },
  {
   "cell_type": "markdown",
   "id": "3e31266a",
   "metadata": {},
   "source": [
    "<div style=\"background-color:PaleGreen;color:black;padding:2%;\">\n",
    "(a) Well, energy is conserved so long as potential energy is converted to potential, so I'll assume it is but it isn't clearly stated\n",
    "\n",
    "(b) $\\dot p_y = 0$ since $p_y$ isn't even in the function, so it is conserved.\n",
    "For $p_x$ and $p_y$ these change as the particle moves through the potential field, since $F=-\\nabla U$ and there's definitely a partial in the x and z direction.\n",
    "\n",
    "(c) Since the gradient points entirely towards the origin, there is no component of force tangential to the origin and $L=0$. If the axis of rotation is defined as a a randome arbitrary point in space this would change\n"
   ]
  },
  {
   "cell_type": "markdown",
   "id": "34b7d6ef",
   "metadata": {
    "editable": true
   },
   "source": [
    "### Exercise 4 (15pt), Angular momentum case\n",
    "\n",
    "At $t=0$ we have a single object with position $\\boldsymbol{r}_0=x_0\\boldsymbol{e}_x+y_0\\boldsymbol{e}_y$.We add also a force in the $x$-direction at $t=0$. We assume that the object is at rest at $t=0$."
   ]
  },
  {
   "cell_type": "markdown",
   "id": "24700ab4",
   "metadata": {
    "editable": true
   },
   "source": [
    "$$\n",
    "\\boldsymbol{F} = F\\boldsymbol{e}_x.\n",
    "$$"
   ]
  },
  {
   "cell_type": "markdown",
   "id": "7334b2ed",
   "metadata": {
    "editable": true
   },
   "source": [
    "* 4a (5pt) Find the velocity and momentum at a given time $t$ by integrating over time with the above initial conditions.\n",
    "\n",
    "* 4b (5pt) Find also the position at a time $t$. \n",
    "\n",
    "* 4c (5pt) Use the position and the momentum to find the angular momentum and the torque. Is angular momentum conserved?"
   ]
  },
  {
   "cell_type": "markdown",
   "id": "e5af12c1",
   "metadata": {},
   "source": [
    "<div style=\"background-color:PaleGreen;color:black;padding:2%;\">\n",
    "\n",
    "A constant force $F$\n",
    "\n",
    "(a) $\\dot{v}(t)=\\dot v_x(t) + \\dot v_y (t) = \\frac{F\\bold{e}_x}{m}+0 $\n",
    "\n",
    "With no initial velocity this gives us\n",
    "\n",
    "$$\n",
    "v(t)=\\int{\\dot v_x(t)}=\\frac{F\\bold{e}_x}{m}t \\\\\n",
    "p(t) = mv = Ft\\bold{e}_x\n",
    "$$\n",
    "\n",
    "(b) \n",
    "$$\n",
    "r = \\int \\dot r_x + \\int \\dot r _y = \\int v(t)dt+c=\\frac{1}{2}Ft^2 \\bold{e}_x+c\n",
    "$$\n",
    "For t =0 this\n",
    "$$\n",
    "r = \\frac{1}{2}Ft^2 \\bold{e}_x+x_0\\bold{e}_x+ y_0\\bold{e}_y=(\\frac{1}{2}Ft^2+ x_0)\\bold{e}_x+ y_0\\bold{e}_y\n",
    "$$\n",
    "\n",
    "(c) $L = r \\times p = -Ft*y_0*\\bold{e}_z$\n",
    "\n",
    "$\\tau = r \\times F = -F*y_0*\\bold{e}_z$\n",
    "\n",
    "Angular momentum is not conserved since movement isn't on-axis with the origin, and angular momentum changes with time"
   ]
  },
  {
   "cell_type": "markdown",
   "id": "8e41816b",
   "metadata": {
    "editable": true
   },
   "source": [
    "### Exercise 5 (15pt), forces  and potentials\n",
    "\n",
    "A particle of mass $m$ has velocity $v=\\alpha/x$, where $x$ is its displacement.\n",
    "\n",
    "* 5a (5pt) Find the force $F(x)$ responsible for the motion.\n",
    "\n",
    "A particle is thereafter under the influence of a force $F=-kx+kx^3/\\alpha^2$, where $k$ and $\\alpha$ are constants and $k$ is positive.\n",
    "\n",
    "* 5b (5pt) Determine the potential $U(x)$  and discuss the motion. It can be convenient here to make a sketch/plot of the potential as function of $x$.\n",
    "\n",
    "* 5c (5pt)  What happens when the energy of the particle is $E=(1/4)k\\alpha^2$? Hint: what is the maximum value of the potential energy?"
   ]
  },
  {
   "cell_type": "markdown",
   "id": "9f062e76",
   "metadata": {},
   "source": [
    "<div style=\"background-color:PaleGreen;color:black;padding:2%;\">\n",
    "\n",
    "(a) \n",
    "$$\n",
    "\\int F(x) dx = \\frac{1}{2}m(v(x))^2 \\\\\n",
    "F(x) = \\frac{d}{dx} \\frac{1}{2}m(v(x))^2 = \\frac{1}{2}m \\frac{d}{dx} \\left(\\frac{\\alpha}{x}\\right)^2 \\\\\n",
    "= \\frac{1}{2}m\\alpha^2 (-\\frac{2}{x^3}) = -\\frac{m\\alpha^2}{x^3} \n",
    "$$\n",
    "\n",
    "(b)\n",
    "$$\n",
    "F = -kx + kx^3/\\alpha^2 \\\\\n",
    "F(x) = -\\frac{dU}{dx} \\implies U = - \\int F \\cdot dx \\\\\n",
    "U(x) = -\\int (-kx+kx^3/\\alpha^2) dx = k (\\frac{x^2}{2}-\\frac{x^4}{4\\alpha^2}) \\\\\n",
    "U(x) = k\\frac{x^2}{2}-k\\frac{x^4}{4\\alpha^2}\\\\\n",
    "U(0) = 0\n",
    "$$\n",
    "\n",
    "(c) If $E<U_{max}$ the particle will turn around when all energy is converted to potential\n",
    "\n",
    "If $E=(1/4)k\\alpha^2$, $KE=(1/4)k\\alpha^2$ at $x=0$ and $KE = 0$ at $x=...$\n",
    "\n",
    "$$\n",
    "(1/4)k\\alpha^2-k\\frac{x^2}{2}+k\\frac{x^4}{4\\alpha^2}=0 \\\\\n",
    "\\alpha^2-2x^2+\\frac{x^4}{\\alpha^2}=0 \\\\\n",
    "x = \\pm \\alpha$$\n",
    "\n"
   ]
  },
  {
   "cell_type": "markdown",
   "id": "0fd1fc24",
   "metadata": {
    "editable": true
   },
   "source": [
    "### Exercise 6 (40pt), Bouncing object\n",
    "\n",
    "This exercise builds on the code you wrote for solving homework 3.\n",
    "We recommend strongly that you study the text of Malthe-Sørenssen, section 7.5.\n",
    "\n",
    "In homework 3 we introduced gravity and air resistance and studied their\n",
    "effects via a constant acceleration due to gravity and the force\n",
    "arising from air resistance. But what happens when the ball hits the\n",
    "floor? What if we would like to simulate the normal force from the\n",
    "floor acting on the ball?  This exercise shows how we can include more\n",
    "complicated forces with no pain! And the force we include here is an\n",
    "example of a case where analytical solutions may either be difficult\n",
    "to find or we cannot find an analytical solution at all.\n",
    "\n",
    "We need then to include a force model for the normal force from the\n",
    "floor on the ball. The simplest approach to such a system is to\n",
    "introduce a contact force model represented by a spring model.  We\n",
    "model the interaction between the floor and the ball as a single\n",
    "spring. But the normal force is zero when there is no contact. Here we\n",
    "define a simple model that allows us to include such effects in our\n",
    "models.\n",
    "\n",
    "The normal force from the floor on the ball is represented by a spring force. This\n",
    "is a strong simplification of the actual deformation process occurring at the contact\n",
    "between the ball and the floor due to the deformation of both the ball and the floor.\n",
    "\n",
    "The deformed region corresponds roughly to the region of **overlap** between the\n",
    "ball and the floor. The depth of this region is $\\Delta y = R − y(t)$, where $R$\n",
    "is the radius of the ball. This is supposed to represent the compression of the spring.\n",
    "Our model for the normal force acting on the ball is then"
   ]
  },
  {
   "cell_type": "markdown",
   "id": "5fe42bb6",
   "metadata": {
    "editable": true
   },
   "source": [
    "$$\n",
    "\\boldsymbol{N} = −k (R − y(t)) \\boldsymbol{e}_y.\n",
    "$$"
   ]
  },
  {
   "cell_type": "markdown",
   "id": "805f294d",
   "metadata": {
    "editable": true
   },
   "source": [
    "The normal force must act upward when $y < R$,\n",
    "hence the sign must be negative.\n",
    "However, we must also ensure that the normal force only acts when the ball is in\n",
    "contact with the floor, otherwise the normal force is zero. The full formation of the\n",
    "normal force is therefore"
   ]
  },
  {
   "cell_type": "markdown",
   "id": "cae806f9",
   "metadata": {
    "editable": true
   },
   "source": [
    "$$\n",
    "\\boldsymbol{N} = −k (R − y(t)) \\boldsymbol{e}_y,\n",
    "$$"
   ]
  },
  {
   "cell_type": "markdown",
   "id": "e354798d",
   "metadata": {
    "editable": true
   },
   "source": [
    "when $y(t) < R$ and zero when $y(t) \\le R$.\n",
    "In the numerical calculations you can choose $R=0.1$ m and the spring constant $k=1000$ N/m.\n",
    "\n",
    "* 6a (10pt) Identify the forces acting on the ball and set up a diagram with the forces acting on the ball. Find the acceleration of the falling ball now with the normal force as well.\n",
    "\n",
    "* 6b (30pt) Choose a large enough final time so you can study the ball bouncing up and down several times. Add the normal force and compute the height of the ball as function of time with and without air resistance. Comment your results."
   ]
  },
  {
   "attachments": {
    "image-2.png": {
     "image/png": "[encoded data removed]"
    }
   },
   "cell_type": "markdown",
   "id": "ffddc4e8",
   "metadata": {},
   "source": [
    "<div style=\"background-color:PaleGreen;color:black;padding:2%;\">\n",
    "(6a) Forces: Gravity, normal force.\n",
    "\n",
    "![image-2.png](attachment:image-2.png)\n",
    "\n",
    "$a=F/m=N-g-D=k(R-y(t))-g-D|v|v/m$\n",
    "\n",
    "Down is negative\n",
    "\n",
    "(6b) see below"
   ]
  },
  {
   "cell_type": "code",
   "execution_count": 13,
   "id": "b60f3a78",
   "metadata": {},
   "outputs": [],
   "source": [
    "import numpy as np\n",
    "import matplotlib.pyplot as plt"
   ]
  },
  {
   "cell_type": "code",
   "execution_count": 69,
   "id": "ba4d73b3",
   "metadata": {},
   "outputs": [
    {
     "data": {
      "image/png": "[encoded data removed]",
      "text/plain": [
       "<Figure size 640x480 with 1 Axes>"
      ]
     },
     "metadata": {},
     "output_type": "display_data"
    },
    {
     "name": "stdout",
     "output_type": "stream",
     "text": [
      "[-0.12246296]\n"
     ]
    }
   ],
   "source": [
    "# I'll do 1D in this situation #Negative is down\n",
    "R = 0.1 #radius of ball\n",
    "k = 1000 # spring constant\n",
    "g = 9.81 #gravity\n",
    "D = 0.2 # drag coeff\n",
    "m = 1 #mass\n",
    "\n",
    "N = 20000\n",
    "t0 = 0\n",
    "tfinal = 25\n",
    "\n",
    "dt = (tfinal - t0) / N\n",
    "t = np.linspace(t0, tfinal, N)\n",
    "\n",
    "def accel(v,y,D=D,m=m,k=k,r=R):\n",
    "    vout = 0\n",
    "\n",
    "    if y < r:\n",
    "        vout += k*(r-y) / m # r-y goes from r-r to r\n",
    "    vout -= D * v * abs(v) / m #negative v = upward force\n",
    "    vout -= 9.81\n",
    "\n",
    "    return vout\n",
    "\n",
    "def timestep(x,v,a,dt=dt, accel=accel):\n",
    "    vo = v + a*dt\n",
    "    xo = x + v*dt\n",
    "    ao = accel(v,x)\n",
    "\n",
    "    return xo, vo, ao\n",
    "\n",
    "x_data = np.zeros((N, 1))\n",
    "v_data = np.zeros((N, 1))\n",
    "a_data = np.zeros((N, 1))\n",
    "\n",
    "x_data[0] = 5\n",
    "v_data[0] = 0\n",
    "a_data[0] = -9.81\n",
    "\n",
    "for i in range(N-1):\n",
    "    output = timestep(x_data[i], v_data[i], a_data[i])\n",
    "    \n",
    "    x_data[i + 1] = output[0]\n",
    "    v_data[i + 1] = output[1]\n",
    "    a_data[i + 1] = output[2]\n",
    "\n",
    "\n",
    "plt.plot(t,x_data)\n",
    "plt.show()\n",
    "\n",
    "print(min(x_data))\n"
   ]
  },
  {
   "cell_type": "markdown",
   "id": "2bcfe16b",
   "metadata": {},
   "source": [
    "<div style=\"background-color:PaleGreen;color:black;padding:2%;\">\n",
    "I printed out minimum height there to mention that the thing isn't quite ideal. The ball touches the groung at $y=r$, it is squshed into the ground at $y=0$, and in order to go to $y<-r$ it has to be entirely below the ground. I don't think we mentioned the floor was a spring.\n",
    "\n",
    "Also, why does it keep going? Air resistance should cause it to taper further, but velocity is too small for this to be very strong with the chosen coefficients.  "
   ]
  },
  {
   "cell_type": "markdown",
   "id": "18dcadd7",
   "metadata": {
    "editable": true
   },
   "source": [
    "### Classical Mechanics Extra Credit Assignment: Scientific Writing and attending Talks\n",
    "\n",
    "The following gives you an opportunity to earn **five extra credit\n",
    "points** on each of the remaining homeworks and **ten extra credit points**\n",
    "on the midterms and finals.  This assignment also covers an aspect of\n",
    "the scientific process that is not taught in most undergraduate\n",
    "programs: scientific writing.  Writing scientific reports is how\n",
    "scientist communicate their results to the rest of the field.  Knowing\n",
    "how to assemble a well written scientific report will greatly benefit\n",
    "you in you upper level classes, in graduate school, and in the work\n",
    "place.\n",
    "\n",
    "The full information on extra credits is found at <https://github.com/mhjensen/Physics321/blob/master/doc/Homeworks/ExtraCredits/>. There you will also find examples on how to write a scientific article. \n",
    "Below you can also find a description on how to gain extra credits by attending scientific talks.\n",
    "\n",
    "This assignment allows you to gain extra credit points by practicing\n",
    "your scientific writing.  For each of the remaining homeworks you can\n",
    "submit the specified section of a scientific report (written about the\n",
    "numerical aspect of the homework) for five extra credit points on the\n",
    "assignment.  For the two midterms and the final, submitting a full\n",
    "scientific report covering the numerical analysis problem will be\n",
    "worth ten extra points.  For credit the grader must be able to tell\n",
    "that you put effort into the assignment (i.e. well written, well\n",
    "formatted, etc.).  If you are unfamiliar with writing scientific\n",
    "reports, [see the information here](https://github.com/mhjensen/Physics321/blob/master/doc/Homeworks/ExtraCredits/IntroductionScientificWriting.md)\n",
    "\n",
    "The following table explains what aspect of a scientific report is due\n",
    "with which homework.  You can submit the assignment in any format you\n",
    "like, in the same document as your homework, or in a different one.\n",
    "Remember to cite any external references you use and include a\n",
    "reference list.  There are no length requirements, but make sure what\n",
    "you turn in is complete and through.  If you have any questions,\n",
    "please contact Julie Butler at butler@frib.msu.edu.\n",
    "\n",
    "<table class=\"dotable\" border=\"1\">\n",
    "<thead>\n",
    "<tr><th align=\"center\">  HW/Project </th> <th align=\"center\"> Due Date</th> <th align=\"center\">Extra Credit Assignment</th> </tr>\n",
    "</thead>\n",
    "<tbody>\n",
    "<tr><td align=\"center\">   HW 3             </td> <td align=\"center\">   2-8          </td> <td align=\"center\">   Abstract                   </td> </tr>\n",
    "<tr><td align=\"center\">   HW 4             </td> <td align=\"center\">   2-15         </td> <td align=\"center\">   Introduction               </td> </tr>\n",
    "<tr><td align=\"center\">   HW 5             </td> <td align=\"center\">   2-22         </td> <td align=\"center\">   Methods                    </td> </tr>\n",
    "<tr><td align=\"center\">   HW 6             </td> <td align=\"center\">   3-1          </td> <td align=\"center\">   Results and Discussion     </td> </tr>\n",
    "<tr><td align=\"center\">   **Midterm 1**    </td> <td align=\"center\">   **3-12**     </td> <td align=\"center\">   *Full Written Report*      </td> </tr>\n",
    "<tr><td align=\"center\">   HW 7             </td> <td align=\"center\">   3-22         </td> <td align=\"center\">   Abstract                   </td> </tr>\n",
    "<tr><td align=\"center\">   HW 8             </td> <td align=\"center\">   3-29         </td> <td align=\"center\">   Introduction               </td> </tr>\n",
    "<tr><td align=\"center\">   HW 9             </td> <td align=\"center\">   4-5          </td> <td align=\"center\">   Results and Discussion     </td> </tr>\n",
    "<tr><td align=\"center\">   **Midterm 2      </td> <td align=\"center\">   ** _4-16_    </td> <td align=\"center\">   *Full Written Report*      </td> </tr>\n",
    "<tr><td align=\"center\">   HW 10            </td> <td align=\"center\">   4-26         </td> <td align=\"center\">   Abstract                   </td> </tr>\n",
    "<tr><td align=\"center\">   **Final**        </td> <td align=\"center\">   **4-30**     </td> <td align=\"center\">   *Full Written Report*      </td> </tr>\n",
    "</tbody>\n",
    "</table>\n",
    "\n",
    "You can also gain extra credits if you attend scientific talks.\n",
    "This is described here."
   ]
  },
  {
   "cell_type": "markdown",
   "id": "376f34d1",
   "metadata": {
    "editable": true
   },
   "source": [
    "### Integrating Classwork With Research\n",
    "\n",
    "This opportunity will allow you to earn up to 5 extra credit points on a Homework per week. These points can push you above 100% or help make up for missed exercises.\n",
    "In order to earn all points you must:\n",
    "\n",
    "1. Attend an MSU research talk (recommended research oriented Clubs is  provided below)\n",
    "\n",
    "2. Summarize the talk using at least 150 words\n",
    "\n",
    "3. Turn in the summary along with your Homework.\n",
    "\n",
    "Approved talks:\n",
    "Talks given by researchers through the following clubs:\n",
    "* Research and Idea Sharing Enterprise (RAISE)​: Meets Wednesday Nights Society for Physics Students (SPS)​: Meets Monday Nights\n",
    "\n",
    "* Astronomy Club​: Meets Monday Nights\n",
    "\n",
    "* Facility For Rare Isotope Beam (FRIB) Seminars: ​Occur multiple times a week\n",
    "\n",
    "If you have any questions please consult Jeremy Rebenstock, rebensto@msu.edu.\n",
    "\n",
    "All the material on extra credits is at <https://github.com/mhjensen/Physics321/blob/master/doc/Homeworks/ExtraCredits/>."
   ]
  },
  {
   "cell_type": "code",
   "execution_count": 28,
   "id": "87df825b",
   "metadata": {},
   "outputs": [],
   "source": [
    "vprime = 0"
   ]
  },
  {
   "cell_type": "code",
   "execution_count": 17,
   "id": "21312b49",
   "metadata": {},
   "outputs": [
    {
     "data": {
      "text/plain": [
       "0.001"
      ]
     },
     "execution_count": 17,
     "metadata": {},
     "output_type": "execute_result"
    }
   ],
   "source": [
    "dt"
   ]
  },
  {
   "cell_type": "code",
   "execution_count": 38,
   "id": "d7c0a043",
   "metadata": {},
   "outputs": [
    {
     "name": "stdout",
     "output_type": "stream",
     "text": [
      "-0.009811203246364269\n"
     ]
    }
   ],
   "source": [
    "vprime = accel(vprime,1)*dt\n",
    "print(vprime)"
   ]
  },
  {
   "cell_type": "markdown",
   "id": "779a1405",
   "metadata": {},
   "source": [
    "$$v_{ter}=\\sqrt{\\frac{mg}{D}}\\\\\n",
    "= 3.13\\sqrt{\\frac{m}{D}}\n",
    "$$"
   ]
  },
  {
   "cell_type": "code",
   "execution_count": 42,
   "id": "821454ff",
   "metadata": {},
   "outputs": [
    {
     "name": "stdout",
     "output_type": "stream",
     "text": [
      "200 0.75\n",
      "51.11268596607565\n"
     ]
    }
   ],
   "source": [
    "print(m,D)\n",
    "print(3.13*(m/D)**(1/2))"
   ]
  },
  {
   "cell_type": "code",
   "execution_count": 27,
   "id": "8353940d",
   "metadata": {},
   "outputs": [
    {
     "data": {
      "text/plain": [
       "2.6899999999999995"
      ]
     },
     "execution_count": 27,
     "metadata": {},
     "output_type": "execute_result"
    }
   ],
   "source": [
    "accel(1,1)"
   ]
  }
 ],
 "metadata": {
  "kernelspec": {
   "display_name": "Python 3",
   "language": "python",
   "name": "python3"
  },
  "language_info": {
   "codemirror_mode": {
    "name": "ipython",
    "version": 3
   },
   "file_extension": ".py",
   "mimetype": "text/x-python",
   "name": "python",
   "nbconvert_exporter": "python",
   "pygments_lexer": "ipython3",
   "version": "3.11.8"
  }
 },
 "nbformat": 4,
 "nbformat_minor": 5
}
