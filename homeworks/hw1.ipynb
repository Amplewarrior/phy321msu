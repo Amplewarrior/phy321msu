{
 "cells": [
  {
   "cell_type": "markdown",
   "id": "4b72d823",
   "metadata": {
    "editable": true
   },
   "source": [
    "# Homework 1 (Due 19 Jan)\n",
    "\n",
    "**Due January 19 (midnight)**\n",
    "\n",
    "Date: **Jan 8, 2024**\n",
    "Total points: **100**."
   ]
  },
  {
   "cell_type": "markdown",
   "id": "e1710db6",
   "metadata": {
    "editable": true
   },
   "source": [
    "**Practicalities about  homeworks and projects**\n",
    "\n",
    "1. You can work in groups (optimal groups are often 2-3 people) or by yourself. If you work as a group you can hand in one answer only if you wish. **Remember to write your name(s)**!\n",
    "\n",
    "2. Homeworks are available approximately ten days before the deadline. You should anticipate this work.\n",
    "\n",
    "3. How do I(we)  hand in?  You can hand in the paper and pencil exercises as a **single scanned PDF document**. For this homework this applies to exercises 1-5. You should upload the scan to D2L. Alternatively, you can hand in everything (if you are ok with typing mathematical formulae using say $\\LaTeX$) as a jupyter notebook at D2L. The **numerical exercise should always be handed in as a jupyter notebook** by the deadline at D2L (exercise 6 here)."
   ]
  },
  {
   "cell_type": "markdown",
   "id": "b11db200",
   "metadata": {
    "editable": true
   },
   "source": [
    "## Exercise 1 (15 pt), math reminder, properties of exponential function\n",
    "\n",
    "The first exercise is meant to remind ourselves about properties of the exponential function and imaginary numbers. This is highly relevant later in this course when we start analyzing oscillatory motion and some wave mechanics. The discovery relating [trigonometric functions and exponential functions](https://en.wikipedia.org/wiki/Euler's_formula) is attributed to [Leonhard Euler (1707-1783)](https://en.wikipedia.org/wiki/Leonhard_Euler). There's two great books on the development formula, its importance to math and science, its applications:\n",
    "\n",
    "- [Paul J. Nahin, *Dr. Euler's Fabulous Formula: Cures Many Mathematical Ills*, Princeton University Press (2006)](https://bookshop.org/p/books/dr-euler-s-fabulous-formula-cures-many-mathematical-ills-paul-j-nahin/9008263)\n",
    "- [David Stipp, *A Most Elegant Equation: Euler's Formula and the Beauty of Mathematics*, Basic Books (2017)](https://bookshop.org/p/books/a-most-elegant-equation-euler-s-formula-and-the-beauty-of-mathematics-david-stipp/11457298)\n",
    "\n",
    "As physicists we should feel comfortable with expressions that include $\\exp{(\\imath \\omega t)}$ and $\\exp{(\\imath 2\\pi f t)}$. Here $t$ could be interpreted as time and $\\omega$/$f$ as a frequency. We know that $\\imath = \\sqrt(-1)$ is the imaginary unit number.\n",
    "\n",
    "* 1a (4pt): Perform Taylor expansions in powers of $2\\pi f t$ of the functions $\\cos{(2\\pi f t)}$ and $\\sin{(2\\pi f t)}$. Show your work in producing those Taylor expansions.\n",
    "* 1b (3pt): Perform a Taylor expansion of $\\exp{(i2\\pi f t)}$. Show your work in producing those Taylor expansions.\n",
    "* 1c (2pt): Using parts (a) and (b) here, show that $\\exp{(\\imath2\\pi f t)}=\\cos{(2\\pi f t)}+\\imath\\sin{(2\\pi f t)}$.\n",
    "* 1d (2pt): Show that $\\ln{(−1)} = \\imath\\pi$.\n",
    "* 1e (4pt): Develop another novel mathematical relationship based on the properties you've discovered in this problem. Explain how your result connects to any of the results parts a-d."
   ]
  },
  {
   "cell_type": "markdown",
   "id": "93551248",
   "metadata": {
    "editable": true
   },
   "source": [
    "## Exercise 2 (15 pt), Vector algebra\n",
    "\n",
    "As we have quickly realized, forces and motion in three dimensions are best described using vectors. Here we perform some elementary vector algebra that we wil need to have as tacit knowledge for the rest of the course. These operations are not typically taken with specific numbers, but rather with vectors in general. When we need to, we use the notation $\\boldsymbol{a}=(a_x,a_y,a_z)$ for vectors in three dimensions. To get us started the first two questions below include numerical values, but the third question expects you to use the general notation.\n",
    "\n",
    "* 2a (4pt) One of the many uses of the scalar product is to find the angle between two given vectors. Find the angle between the vectors $\\boldsymbol{a}=(1,3,9)$ and $\\boldsymbol{b}=(9,3,1)$ by evaluating their scalar product.\n",
    "\n",
    "* 2b (5pt) For a cube with sides of length 1, one vertex at the origin, and sides along the $x$, $y$, and $z$ axes, the vector of the body diagonal from the origin can be written $\\boldsymbol{a}=(1, 1, 1)$ and the vector of the face diagonal in the $xy$ plane from the origin is $\\boldsymbol{b}=(1,1,0)$. Find first the lengths of the body diagonal and the face diagonal. Use then part (2a) to find the angle between the body diagonal and the face diagonal. **Make sure to include a sketch of your cube, the relevant vectors, and the angle you find.**\n",
    "\n",
    "* 2c (6pt) Consider two arbitrary vectors in three dimensions, $\\boldsymbol{a}=(a_x, a_y, a_z)$ and $\\boldsymbol{b}=(b_x, b_y, b_z)$. Prove that the cross product $\\boldsymbol{a} \\times \\boldsymbol{b}$ results in a vector that is perpendicular to both $\\boldsymbol{a}$ and $\\boldsymbol{b}$. Use the properties of the dot product and the cross product to support your proof. Include a diagram illustrating the vectors and their cross product.\n",
    "\n",
    "The notation that we use for vectors in fairly recently developed in mathematical history. The development of calculus, geometry, and physics in the 17th century required new notations. The [history of mathematical notation](https://en.wikipedia.org/wiki/History_of_mathematical_notation#High_division_operators_and_functions) is very interesting in that these tools and symbols that we developed helped us to solve new and more advanced problems. "
   ]
  },
  {
   "cell_type": "markdown",
   "id": "b409ca24",
   "metadata": {
    "editable": true
   },
   "source": [
    "## Exercise 3 (10 pt), More vector mathematics\n",
    "\n",
    "* 3a (5pt) Show (using the fact that multiplication of reals is distributive) that $\\boldsymbol{a}\\cdot(\\boldsymbol{b}+\\boldsymbol{c})=\\boldsymbol{a}\\cdot\\boldsymbol{b}+\\boldsymbol{a}\\cdot\\boldsymbol{c}$.\n",
    "\n",
    "* 3b (5pt) Show that (using product rule for differentiating reals)  $\\frac{d}{dt}(\\boldsymbol{a}\\cdot\\boldsymbol{b})=\\boldsymbol{a}\\cdot\\frac{d\\boldsymbol{b}}{dt}+\\boldsymbol{b}\\cdot\\frac{d\\boldsymbol{a}}{dt}$"
   ]
  },
  {
   "cell_type": "markdown",
   "id": "911353c4",
   "metadata": {
    "editable": true
   },
   "source": [
    "## Exercise 4 (10 pt), Algebra of cross products\n",
    "\n",
    "* 4a (5pt) Show that the cross products are distribuitive $\\boldsymbol{a}\\times(\\boldsymbol{b}+\\boldsymbol{c})=\\boldsymbol{a}\\times\\boldsymbol{b}+\\boldsymbol{a}\\times\\boldsymbol{c}$.\n",
    "\n",
    "* 4b (5pt) Show that $\\frac{d}{dt}(\\boldsymbol{a}\\times\\boldsymbol{b})=\\boldsymbol{a}\\times\\frac{d\\boldsymbol{b}}{dt}+\\frac{d\\boldsymbol{a}}{dt}\\times \\boldsymbol{b}$. Be careful with the order of factors"
   ]
  },
  {
   "cell_type": "markdown",
   "id": "895246f2",
   "metadata": {
    "editable": true
   },
   "source": [
    "## Exercise 5 (10 pt), Area of triangle and law of sines\n",
    "\n",
    "The three vectors $\\boldsymbol{a}$, $\\boldsymbol{b}$, and $\\boldsymbol{c}$ are the three sides of a triangle *ABC*. The angles $\\alpha$, $\\beta$, and $\\gamma$ are the angles opposite the sides $\\boldsymbol{a}$, $\\boldsymbol{b}$, and $\\boldsymbol{c}$, respectively. as shown below.\n",
    "\n",
    "![triangle](../images/assignments/1.15-triangle.png)\n",
    "\n",
    "*(Figure: A triangle with sides $\\boldsymbol{a}$, $\\boldsymbol{b}$, and $\\boldsymbol{c}$ and angles $\\alpha$, $\\beta$, and $\\gamma$; reproduced from JRT.)*\n",
    "\n",
    "* 5a (5pt) Show that the area of the triangle can be given by any of these three equivalent expressions: $A=\\frac{1}{2}|\\boldsymbol{a}\\times\\boldsymbol{b}|=\\frac{1}{2}|\\boldsymbol{b}\\times\\boldsymbol{c}|=\\frac{1}{2}|\\boldsymbol{c}\\times\\boldsymbol{a}|$.\n",
    "\n",
    "* 5b (5pt) Use the equality of the three expressions for the area of the triangle to show that $\\frac{\\sin{\\alpha}}{a}=\\frac{\\sin{\\beta}}{b}=\\frac{\\sin{\\gamma}}{c}$, which is known as the [Law of Sines](https://en.wikipedia.org/wiki/Law_of_sines)."
   ]
  },
  {
   "cell_type": "markdown",
   "id": "338bc87e",
   "metadata": {
    "editable": true
   },
   "source": [
    "## Exercise 6 (40pt), Numerical elements, getting started with some simple data\n",
    "\n",
    "**This exercise should be handed in as a jupyter-notebook** at D2L. Remember to write your name(s). \n",
    "\n",
    "Our first numerical attempt will involve reading data from file or\n",
    "just setting up two vectors, one for position and one for time. Our data are from \n",
    "[Usain Bolt's world record 100m during the olympic games in Beijing in\n",
    "2008](https://www.youtube.com/watch?v=93dC0o2aHto). The data show the time used in units of 10m (see below). Before we however\n",
    "venture into this, we need to repeat some basic Python syntax with an\n",
    "emphasis on\n",
    "\n",
    "* basic Python syntax for arrays\n",
    "\n",
    "* define and operate on vectors and matrices in Python\n",
    "\n",
    "* create plots for motion in 1D space\n",
    "\n",
    "For more information, see [this link to Python support materials](https://dannycaballero.info/phy321msu/lecture-notes/chapter2.html#python-practicalities-software-and-needed-installations).\n",
    "Here are some of the basic packages we will be using this week"
   ]
  },
  {
   "cell_type": "code",
   "execution_count": 7,
   "id": "3a67317f",
   "metadata": {
    "collapsed": false,
    "editable": true,
    "jupyter": {
     "outputs_hidden": false
    }
   },
   "outputs": [],
   "source": [
    "%matplotlib inline\n",
    "\n",
    "import numpy as np \n",
    "import matplotlib.pyplot as plt\n",
    "%matplotlib inline"
   ]
  },
  {
   "cell_type": "markdown",
   "id": "491aeebe",
   "metadata": {
    "editable": true
   },
   "source": [
    "The first exercise here deals with simply getting familiar with vectors and matrices.\n",
    "\n",
    "We will be working with vectors and matrices to get you familiar with them.\n",
    "\n",
    "1. Initalize two three-dimensional $xyz$ vectors in the below cell using np.array([x,y,z]). Vectors are represented through arrays in python\n",
    "\n",
    "2. V1 should have x1=1, y1 =2, and z1=3. \n",
    "\n",
    "3. Vector 2 should have x2=4, y2=5,  and z2=6. \n",
    "\n",
    "4. Print both vectors to make sure your code is working properly."
   ]
  },
  {
   "cell_type": "code",
   "execution_count": 8,
   "id": "73c3b3ff",
   "metadata": {
    "collapsed": false,
    "editable": true,
    "jupyter": {
     "outputs_hidden": false
    }
   },
   "outputs": [
    {
     "name": "stdout",
     "output_type": "stream",
     "text": [
      "V1:  [1 2 3]\n",
      "V2:  [4 5 6]\n"
     ]
    }
   ],
   "source": [
    "V1 = np.array([1,2,3])\n",
    "V2 = np.array([4,5,6])\n",
    "print(\"V1: \", V1)\n",
    "print(\"V2: \", V2)"
   ]
  },
  {
   "cell_type": "markdown",
   "id": "97269e0f",
   "metadata": {
    "editable": true
   },
   "source": [
    "If this is not too familiar, here's a useful link for creating vectors in python\n",
    "<https://docs.scipy.org/doc/numpy-1.13.0/user/basics.creation.html>. Alternatively, look up the [introductory slides](https://mhjensen.github.io/Physics321/doc/pub/week2/html/week2.html).\n",
    "\n",
    "Now let us do some basic mathematics with vectors.\n",
    "\n",
    "Compute and print the following, and double check with your own paper and pencil calculations:\n",
    "\n",
    "* 6a (2pt)  Calculate $\\boldsymbol{V}_1-\\boldsymbol{V}_2$.\n",
    "\n",
    "* 6b (2pt)  Calculate $\\boldsymbol{V}_2-\\boldsymbol{V}_1$.\n",
    "\n",
    "* 6c (2pt) Calculate the dot product $\\boldsymbol{V}_1\\boldsymbol{V}_2$.\n",
    "\n",
    "* 6d (2pt) Calculate the cross product $\\boldsymbol{V}_1\\times\\boldsymbol{V}_2$.\n",
    "\n",
    "Here is some useful explanation on numpy array operations if you feel a bit confused by what is happening,\n",
    "see <https://www.pluralsight.com/guides/overview-basic-numpy-operations>.\n",
    "\n",
    "The following code prints the first two exercises"
   ]
  },
  {
   "cell_type": "code",
   "execution_count": 9,
   "id": "f27eb184",
   "metadata": {
    "collapsed": false,
    "editable": true,
    "jupyter": {
     "outputs_hidden": false
    }
   },
   "outputs": [
    {
     "name": "stdout",
     "output_type": "stream",
     "text": [
      "[-3 -3 -3]\n",
      "[3 3 3]\n",
      "32\n",
      "[-3  6 -3]\n"
     ]
    }
   ],
   "source": [
    "print(V1-V2) #6a\n",
    "print(V2-V1) #6b\n",
    "print(np.dot(V1,V2)) #6c\n",
    "print(np.cross(V1,V2)) #6d"
   ]
  },
  {
   "cell_type": "markdown",
   "id": "db9f45b8",
   "metadata": {
    "editable": true
   },
   "source": [
    "For the dot product of V1 and V2 below we can use the **dot** function of **numpy** as follows"
   ]
  },
  {
   "cell_type": "code",
   "execution_count": 10,
   "id": "94078ba1",
   "metadata": {
    "collapsed": false,
    "editable": true,
    "jupyter": {
     "outputs_hidden": false
    }
   },
   "outputs": [
    {
     "name": "stdout",
     "output_type": "stream",
     "text": [
      "32\n"
     ]
    }
   ],
   "source": [
    "print(V1.dot(V2))"
   ]
  },
  {
   "cell_type": "markdown",
   "id": "d392ae39",
   "metadata": {
    "editable": true
   },
   "source": [
    "As a small challenge try to write your own function for the **dot** product of two vectors.\n",
    "\n",
    "Matrices can be created in a similar fashion in python.  In this\n",
    "language we can work with them through the package numpy (which we\n",
    "have already imported)"
   ]
  },
  {
   "cell_type": "code",
   "execution_count": 12,
   "id": "811f20ea",
   "metadata": {},
   "outputs": [
    {
     "data": {
      "text/plain": [
       "32"
      ]
     },
     "execution_count": 12,
     "metadata": {},
     "output_type": "execute_result"
    }
   ],
   "source": [
    "def mad_dotter(v1,v2):\n",
    "    result_val = 0\n",
    "    for i in range(len(v1)):\n",
    "        result_val += v1[i] * v2[i]\n",
    "    return result_val\n",
    "\n",
    "mad_dotter(V1,V2)\n"
   ]
  },
  {
   "cell_type": "code",
   "execution_count": 6,
   "id": "090a936a",
   "metadata": {
    "collapsed": false,
    "editable": true,
    "jupyter": {
     "outputs_hidden": false
    }
   },
   "outputs": [],
   "source": [
    "M1 = np.matrix([[1,2,3],\n",
    "             [4,5,6],\n",
    "             [7,8,9]])\n",
    "M2 = np.matrix([[1,2],\n",
    "             [3,4],\n",
    "             [5,6]])\n",
    "M3 = np.matrix([[9,8,7],\n",
    "             [4,5,6],\n",
    "             [7,6,9]])"
   ]
  },
  {
   "cell_type": "markdown",
   "id": "cf76905b",
   "metadata": {
    "editable": true
   },
   "source": [
    "Matrices can be added in the same way vectors are added in python as shown here"
   ]
  },
  {
   "cell_type": "code",
   "execution_count": 12,
   "id": "b041bc12",
   "metadata": {
    "collapsed": false,
    "editable": true,
    "jupyter": {
     "outputs_hidden": false
    }
   },
   "outputs": [
    {
     "name": "stdout",
     "output_type": "stream",
     "text": [
      "M1+M3: \n",
      " [[10 10 10]\n",
      " [ 8 10 12]\n",
      " [14 14 18]]\n"
     ]
    }
   ],
   "source": [
    "print(\"M1+M3: \\n\", M1+M3)"
   ]
  },
  {
   "cell_type": "markdown",
   "id": "158b8606",
   "metadata": {
    "editable": true
   },
   "source": [
    "What happens if we try to do $M1+M2$? It fails\n",
    "\n",
    "That's enough vectors and matrices for now. Let's move on to some physics problems! \n",
    "\n",
    "We can opt for two different ways of handling the data. The data are\n",
    "listed in the table here and represents the total time Usain Bolt used\n",
    "in steps of 10 meters of distance. The label $i$ is just a counter and\n",
    "we start from zero since Python arrays are by default set from\n",
    "zero. The variable $t$ is time in seconds and $x$ is the position in\n",
    "meters. You may find it useful to include results at time $t=0$ as well. The position is obviously then $x=0$ m.\n",
    "\n",
    "<table class=\"dotable\" border=\"1\">\n",
    "<thead>\n",
    "<tr><th align=\"center\"> i  </th> <th align=\"center\"> 0  </th> <th align=\"center\"> 1  </th> <th align=\"center\"> 2  </th> <th align=\"center\"> 3  </th> <th align=\"center\"> 4  </th> <th align=\"center\"> 5  </th> <th align=\"center\"> 6  </th> <th align=\"center\"> 7  </th> <th align=\"center\"> 8  </th> <th align=\"center\"> 9  </th> </tr>\n",
    "</thead>\n",
    "<tbody>\n",
    "<tr><td align=\"center\">   x[m]    </td> <td align=\"center\">   10      </td> <td align=\"center\">   20      </td> <td align=\"center\">   30      </td> <td align=\"center\">   40      </td> <td align=\"center\">   50      </td> <td align=\"center\">   60      </td> <td align=\"center\">   70      </td> <td align=\"center\">   80      </td> <td align=\"center\">   90      </td> <td align=\"center\">   100     </td> </tr>\n",
    "<tr><td align=\"center\">   t[s]    </td> <td align=\"center\">   1.85    </td> <td align=\"center\">   2.87    </td> <td align=\"center\">   3.78    </td> <td align=\"center\">   4.65    </td> <td align=\"center\">   5.50    </td> <td align=\"center\">   6.32    </td> <td align=\"center\">   7.14    </td> <td align=\"center\">   7.96    </td> <td align=\"center\">   8.79    </td> <td align=\"center\">   9.69    </td> </tr>\n",
    "</tbody>\n",
    "</table>\n",
    "\n",
    "* 6e (6pt) You can make a file with the above data and read them in and set up two vectors, one for time and one for position. Alternatively, you can just set up these two vectors directly and define two vectors in your Python code.\n",
    "\n",
    "The following example code may help here"
   ]
  },
  {
   "cell_type": "code",
   "execution_count": 13,
   "id": "ef993870",
   "metadata": {
    "collapsed": false,
    "editable": true,
    "jupyter": {
     "outputs_hidden": false
    }
   },
   "outputs": [
    {
     "data": {
      "image/png": "[encoded data removed]",
      "text/plain": [
       "<Figure size 640x480 with 1 Axes>"
      ]
     },
     "metadata": {},
     "output_type": "display_data"
    }
   ],
   "source": [
    "# we just initialize time and position\n",
    "x = np.array([10.0, 20.0, 30.0, 40.0, 50.0, 60.0, 70.0, 80.0, 90.0, 100.0])\n",
    "t = np.array([1.85, 2.87, 3.78, 4.65, 5.50, 6.32, 7.14, 7.96, 8.79, 9.69])\n",
    "plt.plot(t,x, color='black')\n",
    "plt.xlabel(\"Time t[s]\")\n",
    "plt.ylabel(\"Position x[m]\")\n",
    "plt.title(\"Usain Bolt's world record run\")\n",
    "plt.show()"
   ]
  },
  {
   "cell_type": "markdown",
   "id": "4fb841a0",
   "metadata": {
    "editable": true
   },
   "source": [
    "* 6f (6pt) Plot the position as function of time\n",
    "\n",
    "* 6g (10pt) Compute thereafter the mean velocity for every interval $i$ and the total velocity (from $i=0$ to the given interval $i$) for each interval and plot these two quantities as function of time. Comment your results.\n",
    "\n",
    "* 6h (10pt) Finally, compute and plot the mean acceleration for each interval and the total acceleration. Again, comment your results. Can you see whether he slowed down during the last meters?"
   ]
  },
  {
   "cell_type": "markdown",
   "id": "124185f7",
   "metadata": {},
   "source": [
    "I believe 6f is completed in the example. Below completes 6f-6h"
   ]
  },
  {
   "cell_type": "code",
   "execution_count": 51,
   "id": "30d324fe",
   "metadata": {},
   "outputs": [
    {
     "data": {
      "image/png": "[encoded data removed]",
      "text/plain": [
       "<Figure size 640x480 with 1 Axes>"
      ]
     },
     "metadata": {},
     "output_type": "display_data"
    }
   ],
   "source": [
    "# we just initialize time and position\n",
    "x = np.array([0, 10.0, 20.0, 30.0, 40.0, 50.0, 60.0, 70.0, 80.0, 90.0, 100.0])\n",
    "t = np.array([0, 1.85, 2.87, 3.78, 4.65, 5.50, 6.32, 7.14, 7.96, 8.79, 9.69])\n",
    "dt = t[1:] - t[:-1] #remember, i=0 refers to x=10, we don't measure speed at i=-1\n",
    "dx = x[1:] - x[:-1] \n",
    "dxdt = dx/dt\n",
    "\n",
    "\n",
    "\n",
    "#plt.plot(t[1:],dxdt, color='green') #without assuming v=0 initially\n",
    "\n",
    "dxdt = np.insert(dxdt, 0, 0) #assume v=0 and a=0 at t=0\n",
    "plt.plot(t,dxdt, color='green', label = 'velocity [m/s]') #assuming v=0 initially\n",
    "\n",
    "dvdt = dxdt[1:] - dxdt[:-1]\n",
    "dvdt = np.insert(dvdt, 0, 0)\n",
    "plt.plot(t,dvdt, color='blue', label = 'acceleration [m/s^2]') #assuming a=0 initially\n",
    "\n",
    "\n",
    "plt.plot(t,x/10, color='black', label = 'position [10\\'s of meters]')\n",
    "plt.xlabel(\"Time t[s]\")\n",
    "plt.ylabel(\"Value\")\n",
    "plt.title(\"Usain Bolt's world record run\")\n",
    "plt.axhline(0,color='black')\n",
    "plt.axhline(np.average(dxdt),color='darkblue', label = 'average velocity')\n",
    "plt.axhline(np.average(dvdt),color='darkgreen', label = 'average acceleration')\n",
    "plt.legend()\n",
    "plt.show()"
   ]
  }
 ],
 "metadata": {
  "kernelspec": {
   "display_name": "Python 3",
   "language": "python",
   "name": "python3"
  },
  "language_info": {
   "codemirror_mode": {
    "name": "ipython",
    "version": 3
   },
   "file_extension": ".py",
   "mimetype": "text/x-python",
   "name": "python",
   "nbconvert_exporter": "python",
   "pygments_lexer": "ipython3",
   "version": "3.11.7"
  }
 },
 "nbformat": 4,
 "nbformat_minor": 5
}
