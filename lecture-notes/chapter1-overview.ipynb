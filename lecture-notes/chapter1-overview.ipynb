{
 "cells": [
  {
   "cell_type": "markdown",
   "metadata": {},
   "source": [
    "# What is Classical Physics?\n",
    "\n",
    "There are many different fields of physics; they are both distinct and overlapping. If we were to take a view of what kinds of physical systems that we wanted to investigate with different physics, we could organize them based on the system's size and speed of change:\n",
    "\n",
    "- [Classical physics](https://en.wikipedia.org/wiki/Classical_physics): large, slow systems\n",
    "- [Statistical](https://en.wikipedia.org/wiki/Statistical_mechanics) and [quantum mechanics](https://en.wikipedia.org/wiki/Quantum_mechanics): small, slow systems\n",
    "- [General relativity](https://en.wikipedia.org/wiki/General_relativity): large, fast systems\n",
    "- [Quantum field theory](https://en.wikipedia.org/wiki/Quantum_field_theory): small, fast systems\n",
    "\n",
    "These are not hard and fast rules, and, in fact, we often bring physics from different spaces together to solve complex problems. For examples, the fields of [climate modeling](https://en.wikipedia.org/wiki/Climate_model), [non-linear dynamics](https://en.wikipedia.org/wiki/Nonlinear_system), [astrophysics](https://en.wikipedia.org/wiki/Astrophysics), and [Particle physics](https://en.wikipedia.org/wiki/Particle_physics) use physical models and tools for each of the fields above. How we organize physics for ourselves depends on how we decide we want to look at it. However the first view where we organize the field by size and speed is a useful way to think about the different kinds of physics that we have developed thus far.\n",
    "\n",
    "![Physics by size and speed](../images/wikipedia/640px-Modernphysicsfields.svg.png)\n",
    "\n",
    "Image Source: [Wikipedia](https://commons.wikimedia.org/wiki/File:Modernphysicsfields.svg)\n",
    "\n",
    "Classical Physics is the physics that we developed before discovering relativity and quantum mechanics. It typically covers both mechanical systems and electromagnetic systems. It is also [the physics that we read about historically](https://en.wikipedia.org/wiki/History_of_physics), which has its [roots in ancient astronomy](https://en.wikipedia.org/wiki/History_of_astronomy) and has existed across many different cultures. \n",
    "\n",
    "You might have heard of the development physics in the [Hellensitic age](https://en.wikipedia.org/wiki/Science_in_classical_antiquity#Hellenistic_age) where the Greeks used mathematics to study astronomical objects, or how [Newton's Laws of motion](https://en.wikipedia.org/wiki/Newton's_laws_of_motion) came to be. These are both examples of classical physics. But there are many more including [astronomical analyses in Sub-Saharan Africa](https://www.science.org/doi/10.1126/science.200.4343.766) in 300 BCE, massive [scientific expansion in China](https://en.wikipedia.org/wiki/Science_and_technology_of_the_Song_dynasty) during the Song dynasty, and studies that pushed the fields of optics, mechanics, and astronomy in the [Islamic Golden Age](https://en.wikipedia.org/wiki/Islamic_Golden_Age). While we do not present it, much to the detriment of our own field, [physics and astronomy were a large part of indigenous cultures](https://en.wikipedia.org/wiki/Indigenous_astronomy) across the world including in what become the United States. \n",
    "\n",
    "**Wherever there were people, there was Classical Physics.**"
   ]
  },
  {
   "cell_type": "markdown",
   "metadata": {},
   "source": [
    "## Classical Mechanics\n",
    "\n",
    "When we define [Classical Mechanics](https://en.wikipedia.org/wiki/Classical_mechanics), at least for the purposes of this class, we will define it as the physics of large, slow, mechanical systems. \n",
    "\n",
    "* **Large** - Systems are typically big enough that we can see them with our eyes, or maybe with some reasonably simple optical tools. We're typically excluding the microscopic world of atoms and molecules.\n",
    "* **Slow** -- Systems for which we can observe their motion and track them \"visually\"; that is they move much slower than the speed of light. This is a critical assumption that we make in classical mechanics.\n",
    "* **Mechanical** -- Systems where the fields of electromagnetism don't come into play. We relax this is bit when we think of a particle in a classical E&M field, but the focus is still on modeling the particle and not the field.\n",
    "\n",
    "### Purpose of Classical Mechanics\n",
    "\n",
    "Classical mechanics is a physics that allows us to model these large, slow, mechanical systems. It helps us develop an understanding of that process of making models and how we can use models to make predictions. It is a physics that results typically in [deterministic models](https://en.wikipedia.org/wiki/Determinism), where we can predict the future of a system given its current state. This is because the language of Classical Mechanics is [differential equations](https://en.wikipedia.org/wiki/Differential_equation), which describe how a system changes as a result of influences from it's environment. It is often a [vector-based physics](https://en.wikipedia.org/wiki/Vector_(mathematics_and_physics)) as it describes the pushes and pulls on a system in a given direction. However, we can often develop scalar models or systems of scalar equations that describe the motion of a system.\n",
    "\n",
    "Ultimately, Classical Mechanics is a physics that allows us to interrogate the behavior of these systems and describe their [dynamics](https://en.wikipedia.org/wiki/Dynamics_(mechanics)). Through Classical Mechanics, we can describe the present state of a system, how it will evolve, and then use that information to make predictions about the future. What we learn from Classical Mechanics can become a set of powerful tools that we can use in many contexts."
   ]
  },
  {
   "cell_type": "markdown",
   "metadata": {},
   "source": [
    "## Applications of Classical Mechanics\n",
    "\n",
    "While it might appear there's little room for using Classical Mechanics in research or in industry now, it turns out there's tons of room. It is still the physics that enables us to understand fluid systems, nonlinear mechanical effects, continuum mechanics, animal locomotion, and many other systems. Below are several examples of how Classical Mechanics is used in research and industry. We encourage to watch these videos as they demonstrate how the physics we will learn in class is really central to continuing to understand nature.\n",
    "\n",
    "### Fluid Mechanics at LANL\n",
    "\n",
    "[Researchers at Los Alamos National Lab](https://www.lanl.gov/org/ddste/aldsc/theoretical/fluid-dynamics-solid-mechanics/index.php) do a variety of research using fluid mechanics models.\n",
    "\n",
    "[![Fluid Mechanics at LANL](https://markdown-videos-api.jorgenkh.no/youtube/myuD81326_o?width=720&height=405)](https://inv.tux.pizza/watch?v=myuD81326_o)\n",
    "\n",
    "- Non-Commercial Link: [https://inv.tux.pizza/watch?v=myuD81326_o](https://inv.tux.pizza/watch?v=myuD81326_o)\n",
    "- Commercial Link: [https://youtube.com/watch?v=myuD81326_o](https://youtube.com/watch?v=myuD81326_o)\n",
    "\n",
    "\n",
    "### Biologically-Inspired Robotics\n",
    "\n",
    "A [research lab at Georgia Tech](https://crablab.gatech.edu/) uses Classical Mechanics to model the motion of animals and then uses that information to build robots that can move like animals.\n",
    "\n",
    "[![Biologically-Inspired Robotics](https://markdown-videos-api.jorgenkh.no/youtube/Qme07fA3Fj4?width=720&height=405)](https://inv.tux.pizza/watch?v=Qme07fA3Fj4)\n",
    "\n",
    "- Non-Commercial Link: [https://inv.tux.pizza/watch?v=Qme07fA3Fj4](https://inv.tux.pizza/watch?v=Qme07fA3Fj4)\n",
    "- Commercial Link: [https://youtube.com/watch?v=Qme07fA3Fj4](https://youtube.com/watch?v=Qme07fA3Fj4)"
   ]
  },
  {
   "cell_type": "markdown",
   "metadata": {},
   "source": [
    "## Are you interested in research?\n",
    "\n",
    "If the idea of doing research appeals to you, MSU is a great place for undergraduate students to do research. We have many [research groups](https://pa.msu.edu/research/index.aspx) across the Department of Physics and Astronomy. Getting started with a group early in your undergraduate career is a great way to figure out what about physics you like, and what you think you want to do with physics in the future. If you are a 3rd year student, consider applying for [research experience for undergraduates (REU) programs](https://www.nsf.gov/crssprgm/reu/list_result.jsp?unitid=69) at other universities. These are great opportunities to get a taste of what research is like at other universities and to meet other students who are interested in physics. They also pay!"
   ]
  },
  {
   "cell_type": "markdown",
   "metadata": {},
   "source": []
  }
 ],
 "metadata": {
  "language_info": {
   "name": "python"
  }
 },
 "nbformat": 4,
 "nbformat_minor": 2
}
