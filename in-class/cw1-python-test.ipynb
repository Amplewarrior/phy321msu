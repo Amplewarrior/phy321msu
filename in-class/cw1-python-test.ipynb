{
 "cells": [
  {
   "cell_type": "markdown",
   "metadata": {},
   "source": [
    "# CW1 - Python Test\n",
    "\n",
    "This is a notebook that includes all the tools we will eventually learn to use in this class. To ensure that you are able to use these tools, we just need you to run this notebook and show us the output. You are welcome to mess around with the code and see what happens, but you don't need to. We will learn how to do this modeling in the next few weeks.\n",
    "\n",
    "We recommend that you download and install the latest version of [Anaconda](https://www.anaconda.com/products/individual) for this class. This will install all of the packages we will need for this class. If you are having trouble installing Anaconda, let us know.\n",
    "\n",
    "**I am done or I already have Anaconda installed**\n",
    "\n",
    "Cool. Then make an environment for this class using the following command:\n",
    "\n",
    "```conda create -n phy321```\n",
    "\n",
    "Then activate the environment using:\n",
    "\n",
    "```conda activate phy321```\n",
    "\n",
    "Then install the following packages:\n",
    "\n",
    "```conda install numpy scipy matplotlib pandas jupyterlab```\n",
    "\n",
    "Then fire up jupyterlab using:\n",
    "\n",
    "```jupyter lab```\n",
    "\n",
    "Now, try to run the following code blocks. If you get an error, you probably need to install a package. If you get an error that you can't figure out, let us know."
   ]
  },
  {
   "cell_type": "markdown",
   "metadata": {},
   "source": [
    "## Import the required libraries\n",
    "\n",
    "Here we simply importing the libraries we will need for this class. If you get an error, you probably need to install a package.\n",
    "\n",
    "```conda install X```\n",
    "\n",
    "where X is the package you need to install."
   ]
  },
  {
   "cell_type": "code",
   "execution_count": 1,
   "metadata": {},
   "outputs": [],
   "source": [
    "import numpy as np\n",
    "import pandas as pd\n",
    "from scipy.integrate import solve_ivp\n",
    "import matplotlib.pyplot as plt"
   ]
  },
  {
   "cell_type": "markdown",
   "metadata": {},
   "source": [
    "## Define the initial conditions of the problem\n",
    "\n",
    "We are modeling the motion of a object thrown at an angle, so we need to define a few parameters, which we do below.\n",
    "\n",
    "We then store the initial conditions in a vector called `initial_state`."
   ]
  },
  {
   "cell_type": "code",
   "execution_count": 6,
   "metadata": {},
   "outputs": [],
   "source": [
    "# Define the initial conditions and parameters\n",
    "g = 9.81  # Acceleration due to gravity (m/s^2)\n",
    "angle = 45  # Launch angle in degrees\n",
    "speed = 20  # Initial speed in m/s\n",
    "t_max = 5  # Maximum simulation time in seconds\n",
    "\n",
    "# Convert angle to radians\n",
    "angle_rad = np.radians(angle)\n",
    "\n",
    "# Initial position and velocity components\n",
    "x0 = 0\n",
    "y0 = 0\n",
    "vx0 = speed * np.cos(angle_rad)\n",
    "vy0 = speed * np.sin(angle_rad)\n",
    "\n",
    "# Initial state vector\n",
    "initial_state = [x0, y0, vx0, vy0]"
   ]
  },
  {
   "cell_type": "markdown",
   "metadata": {},
   "source": [
    "## Define and integrate the equations of motion\n",
    "\n",
    "This is where the physics happens. We are using a numerical integrator called `solve_ivp` to integrate the equations of motion - the differential equations that describe the motion of the object. We will learn more about this in the next few weeks, but we suspect you can see how this is a constant force model. By the way, the `solve_ivp` function is named this way because it is solving an [initial value problem](https://en.wikipedia.org/wiki/Initial_value_problem) - this is a common way to solve differential equations. And since differential equations are the best model we have for classical physics, we will be using this function a lot."
   ]
  },
  {
   "cell_type": "code",
   "execution_count": 7,
   "metadata": {},
   "outputs": [],
   "source": [
    "# Define the equations of motion\n",
    "def equations_of_motion(t, state):\n",
    "    x, y, vx, vy = state\n",
    "    dxdt = vx\n",
    "    dydt = vy\n",
    "    dvxdt = 0\n",
    "    dvydt = -g\n",
    "    return [dxdt, dydt, dvxdt, dvydt]\n",
    "\n",
    "# Solve the equations of motion using SciPy's solve_ivp function\n",
    "solution = solve_ivp(equations_of_motion, [0, t_max], initial_state, max_step=0.01)"
   ]
  },
  {
   "cell_type": "markdown",
   "metadata": {},
   "source": [
    "## Convert the output to a pandas dataframe\n",
    "\n",
    "This is not necessary, but it is a nice way to store the data. The `pandas` framework is a commonly used one and learning how it works is terribly useful for the future. We will learn more about pandas in the next few weeks, but for now just know that it is a way to store data in a table-like format."
   ]
  },
  {
   "cell_type": "code",
   "execution_count": 8,
   "metadata": {},
   "outputs": [
    {
     "data": {
      "text/html": [
       "<div>\n",
       "<style scoped>\n",
       "    .dataframe tbody tr th:only-of-type {\n",
       "        vertical-align: middle;\n",
       "    }\n",
       "\n",
       "    .dataframe tbody tr th {\n",
       "        vertical-align: top;\n",
       "    }\n",
       "\n",
       "    .dataframe thead th {\n",
       "        text-align: right;\n",
       "    }\n",
       "</style>\n",
       "<table border=\"1\" class=\"dataframe\">\n",
       "  <thead>\n",
       "    <tr style=\"text-align: right;\">\n",
       "      <th></th>\n",
       "      <th>x</th>\n",
       "      <th>y</th>\n",
       "      <th>vx</th>\n",
       "      <th>vy</th>\n",
       "      <th>time</th>\n",
       "    </tr>\n",
       "  </thead>\n",
       "  <tbody>\n",
       "    <tr>\n",
       "      <th>0</th>\n",
       "      <td>0.000000</td>\n",
       "      <td>0.000000</td>\n",
       "      <td>14.142136</td>\n",
       "      <td>14.142136</td>\n",
       "      <td>0.000000</td>\n",
       "    </tr>\n",
       "    <tr>\n",
       "      <th>1</th>\n",
       "      <td>0.001000</td>\n",
       "      <td>0.001000</td>\n",
       "      <td>14.142136</td>\n",
       "      <td>14.141442</td>\n",
       "      <td>0.000071</td>\n",
       "    </tr>\n",
       "    <tr>\n",
       "      <th>2</th>\n",
       "      <td>0.010999</td>\n",
       "      <td>0.010996</td>\n",
       "      <td>14.142136</td>\n",
       "      <td>14.134506</td>\n",
       "      <td>0.000778</td>\n",
       "    </tr>\n",
       "    <tr>\n",
       "      <th>3</th>\n",
       "      <td>0.110992</td>\n",
       "      <td>0.110690</td>\n",
       "      <td>14.142136</td>\n",
       "      <td>14.065144</td>\n",
       "      <td>0.007848</td>\n",
       "    </tr>\n",
       "    <tr>\n",
       "      <th>4</th>\n",
       "      <td>0.252414</td>\n",
       "      <td>0.250851</td>\n",
       "      <td>14.142136</td>\n",
       "      <td>13.967044</td>\n",
       "      <td>0.017848</td>\n",
       "    </tr>\n",
       "  </tbody>\n",
       "</table>\n",
       "</div>"
      ],
      "text/plain": [
       "          x         y         vx         vy      time\n",
       "0  0.000000  0.000000  14.142136  14.142136  0.000000\n",
       "1  0.001000  0.001000  14.142136  14.141442  0.000071\n",
       "2  0.010999  0.010996  14.142136  14.134506  0.000778\n",
       "3  0.110992  0.110690  14.142136  14.065144  0.007848\n",
       "4  0.252414  0.250851  14.142136  13.967044  0.017848"
      ]
     },
     "execution_count": 8,
     "metadata": {},
     "output_type": "execute_result"
    }
   ],
   "source": [
    "# Convert the solution to a Pandas DataFrame for easier handling\n",
    "trajectory_df = pd.DataFrame(solution.y.T, columns=['x', 'y', 'vx', 'vy'])\n",
    "trajectory_df['time'] = solution.t\n",
    "trajectory_df.head()"
   ]
  },
  {
   "cell_type": "markdown",
   "metadata": {},
   "source": [
    "## Plot the results\n",
    "\n",
    "Finally, we plot the results. We will learn more about plotting in the next few weeks, but for now just know that this is a way to visualize the results of the simulation."
   ]
  },
  {
   "cell_type": "code",
   "execution_count": 5,
   "metadata": {},
   "outputs": [
    {
     "data": {
      "image/png": "[encoded data removed]",
      "text/plain": [
       "<Figure size 1000x500 with 1 Axes>"
      ]
     },
     "metadata": {},
     "output_type": "display_data"
    }
   ],
   "source": [
    "# Plot the trajectory of the projectile using Matplotlib\n",
    "plt.figure(figsize=(10, 5))\n",
    "plt.plot(trajectory_df['x'], trajectory_df['y'], label='Projectile Trajectory')\n",
    "plt.title('Projectile Motion in 2D')\n",
    "plt.xlabel('Distance (m)')\n",
    "plt.ylabel('Height (m)')\n",
    "plt.legend()\n",
    "plt.grid(True)\n",
    "plt.show()"
   ]
  },
  {
   "cell_type": "markdown",
   "metadata": {},
   "source": [
    "## Questions to consider\n",
    "\n",
    "* How are we writing the differential equations as code?\n",
    "* How can you make the program stop when the object hits the ground?\n",
    "* Can you set this up to model something you have intuition for? How does it compare to your intuition?"
   ]
  },
  {
   "cell_type": "markdown",
   "metadata": {},
   "source": []
  }
 ],
 "metadata": {
  "kernelspec": {
   "display_name": "teaching",
   "language": "python",
   "name": "teaching"
  },
  "language_info": {
   "codemirror_mode": {
    "name": "ipython",
    "version": 3
   },
   "file_extension": ".py",
   "mimetype": "text/x-python",
   "name": "python",
   "nbconvert_exporter": "python",
   "pygments_lexer": "ipython3",
   "version": "3.9.18"
  }
 },
 "nbformat": 4,
 "nbformat_minor": 2
}
