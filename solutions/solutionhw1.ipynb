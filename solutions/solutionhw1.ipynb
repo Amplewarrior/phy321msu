{
 "cells": [
  {
   "cell_type": "markdown",
   "id": "010155c6",
   "metadata": {
    "editable": true
   },
   "source": [
    "# PHY321: Classical Mechanics 1\n",
    "**Solution Homework 1, Spring 2024**"
   ]
  },
  {
   "cell_type": "markdown",
   "id": "c0860d53",
   "metadata": {
    "editable": true
   },
   "source": [
    "## Exercise 1 (15 pt), math reminder, properties of exponential function\n",
    "\n",
    "The first exercise is meant to remind ourselves about properties of the exponential function and imaginary numbers. This is highly relevant later in this course when we start analyzing oscillatory motion and some wave mechanics. \n",
    "\n",
    "As physicists we should thus feel comfortable with expressions that include $\\exp{(\\imath 2\\pi f t)}$. Here $t$ could be interpreted as time and $f$ as a frequency. We know that $\\imath = \\sqrt(-1)$ is the imaginary unit number.\n",
    "\n",
    "* 1a (4pt): Perform Taylor expansions in powers of $2\\pi f t$ of the functions $\\cos{(2\\pi f t)}$ and $\\sin{(2\\pi f t)}$.\n",
    "* 1b (3pt): Perform a Taylor expansion of $\\exp{(i2\\pi f t)}$.\n",
    "* 1c (2pt): Using parts (a) and (b) here, show that $\\exp{(\\imath2\\pi f t)}=\\cos{(2\\pi f t)}+\\imath\\sin{(2\\pi f t)}$.\n",
    "* 1d (2pt): Show that $\\ln{(−1)} = \\imath\\pi$.\n",
    "* 1e (4pt): Develop another novel mathematical relationship based on the properties you've discovered in this problem. Explain how your result connects to any of the results parts a-d."
   ]
  },
  {
   "cell_type": "markdown",
   "id": "14272aeb",
   "metadata": {
    "editable": true
   },
   "source": [
    "### 1a (4pt), solution:\n",
    "\n",
    "Perform Taylor expansions in powers of $2\\pi f t$ of the functions $\\cos{(2\\pi f t)}$ and $\\sin{(2\\pi f t)}$. We have:"
   ]
  },
  {
   "cell_type": "markdown",
   "id": "c956cd73",
   "metadata": {
    "editable": true
   },
   "source": [
    "$$\n",
    "\\cos{(2 \\pi f t)} = \\sum_{n=0}^{\\infty}\\left(-1\\right)^n \\frac{(2 \\pi f t)^{2n}}{(2n)!}=1-\\frac{(2 \\pi f t)^{2}}{2!}+\\frac{(2 \\pi f t)^{4}}{4!}-\\dots,\n",
    "$$"
   ]
  },
  {
   "cell_type": "markdown",
   "id": "fb8bb504",
   "metadata": {
    "editable": true
   },
   "source": [
    "and"
   ]
  },
  {
   "cell_type": "markdown",
   "id": "55e9ae55",
   "metadata": {
    "editable": true
   },
   "source": [
    "$$\n",
    "\\sin{(2 \\pi f t)} = \\sum_{n=0}^{\\infty}\\left(-1\\right)^n \\frac{(2 \\pi f t)^{2n+1}}{(2n+1)!}=2 \\pi f t-\\frac{(2 \\pi f t)^{3}}{3!}+\\frac{(2 \\pi f t)^{5}}{5!}-\\dots,\n",
    "$$"
   ]
  },
  {
   "cell_type": "markdown",
   "id": "21301fae",
   "metadata": {
    "editable": true
   },
   "source": [
    "### 1b (3pt), solution:\n",
    "\n",
    "Perform a Taylor expansion of $\\exp{(i2\\pi f t)}$. We now have:"
   ]
  },
  {
   "cell_type": "markdown",
   "id": "8895eb29",
   "metadata": {
    "editable": true
   },
   "source": [
    "$$\n",
    "\\exp{(\\imath 2 \\pi f t)} = \\sum_{n=0}^{\\infty}\\frac{(\\imath 2 \\pi f t)^{n}}{(n)!}=1+ 2 \\pi f t+\\frac{(\\imath 2 \\pi f t)^{2}}{2!}+\\frac{(\\imath 2 \\pi f t)^{3}}{3!}+\\frac{(\\imath 2 \\pi f t)^{4}}{4!}+\\frac{(\\imath 2 \\pi f t)^{5}}{5!}+\\dots.\n",
    "$$"
   ]
  },
  {
   "cell_type": "markdown",
   "id": "7fe01294",
   "metadata": {
    "editable": true
   },
   "source": [
    "### 1c (4pt), solution:\n",
    "\n",
    "Using parts (a) and (b) here, show that $\\exp{(\\imath2\\pi f t)}=\\cos{(2\\pi f t)}+\\imath\\sin{(2\\pi f t)}$.\n",
    "\n",
    "Using $\\imath^2=-1$ we can rewrite the last results as"
   ]
  },
  {
   "cell_type": "markdown",
   "id": "726bbd64",
   "metadata": {
    "editable": true
   },
   "source": [
    "$$\n",
    "\\begin{align*}\n",
    "\\exp{(2 \\pi f t)} = & \\sum_{n=0}^{\\infty}\\frac{(2 \\pi f t)^{n}}{(n)!}=1+2 \\pi f t\\frac{(2 \\pi f t)^{2}}{2!}+\\frac{(2 \\pi f t)^{3}}{3!}+\\frac{(2 \\pi f t)^{4}}{4!}+\\frac{(2 \\pi f t)^{5}}{5!}+\\dots\\\\\n",
    "=& \\left(1-\\frac{(2 \\pi f t)^{2}}{2!}+\\frac{(2 \\pi f t)^{4}}{4!}-\\dots\\right)+\\left(2 \\pi f t-\\frac{(2 \\pi f t)^{3}}{3!}+\\frac{(2 \\pi f t)^{5}}{5!}-\\dots\\right)\\\\\n",
    "= & \\cos{(2 \\pi f t)}+\\imath\\sin{(2 \\pi f t)}.\n",
    "\\end{align*}\n",
    "$$"
   ]
  },
  {
   "cell_type": "markdown",
   "id": "5df7b01a",
   "metadata": {
    "editable": true
   },
   "source": [
    "### 1d (2pt), solution:\n",
    "\n",
    "Show that $\\ln{(−1)} = \\imath\\pi$.\n",
    "\n",
    "Let $2 \\pi f t = \\pi$, we get"
   ]
  },
  {
   "cell_type": "markdown",
   "id": "e70fd121",
   "metadata": {
    "editable": true
   },
   "source": [
    "$$\n",
    "\\exp{(\\imath\\pi)}=\\cos{(\\pi)}+\\imath\\sin{(\\pi)}=-1.\n",
    "$$"
   ]
  },
  {
   "cell_type": "markdown",
   "id": "88334849",
   "metadata": {},
   "source": [
    "### 1e (4pt), solution:\n",
    "\n",
    "Develop another novel mathematical relationship based on the properties you've discovered in this problem. Explain how your result connects to any of the results parts a-d.\n",
    "\n",
    "**Answer can vary.**"
   ]
  },
  {
   "cell_type": "markdown",
   "id": "bda40114",
   "metadata": {
    "editable": true
   },
   "source": [
    "## Exercise 2 (15 pt), Vector algebra\n",
    "\n",
    "As we have quickly realized, forces and motion in three dimensions are best described using vectors. Here we perform some elementary vector algebra that we wil need to have as tacit knowledge for the rest of the course. These operations are not typicay taken with specific numbers, but rather with vectors in general. When we need to, we use the notation $\\boldsymbol{a}=(a_x,a_y,a_z)$ for vectors in three dimensions. To get us started the first two questions below include numerical values, but the third question expects you to use the general notation.\n",
    "\n",
    "* 2a (4pt) One of the many uses of the scalar product is to find the angle between two given vectors. Find the angle between the vectors $\\boldsymbol{a}=(1,3,9)$ and $\\boldsymbol{b}=(9,3,1)$ by evaluating their scalar product.\n",
    "\n",
    "* 2b (5pt) For a cube with sides of length 1, one vertex at the origin, and sides along the $x$, $y$, and $z$ axes, the vector of the body diagonal from the origin can be written $\\boldsymbol{a}=(1, 1, 1)$ and the vector of the face diagonal in the $xy$ plane from the origin is $\\boldsymbol{b}=(1,1,0)$. Find first the lengths of the body diagonal and the face diagonal. Use then part (2a) to find the angle between the body diagonal and the face diagonal. **Make sure to include a sketch of your cube, the relevant vectors, and the angle you find.**\n",
    "\n",
    "* 2c (6pt) Consider two arbitrary vectors in three dimensions, $\\boldsymbol{a}=(a_x, a_y, a_z)$ and $\\boldsymbol{b}=(b_x, b_y, b_z)$. Prove that the cross product $\\boldsymbol{a} \\times \\boldsymbol{b}$ results in a vector that is perpendicular to both $\\boldsymbol{a}$ and $\\boldsymbol{b}$. Use the properties of the dot product and the cross product to support your proof. Include a diagram illustrating the vectors and their cross product."
   ]
  },
  {
   "cell_type": "markdown",
   "id": "c5e39f03",
   "metadata": {
    "editable": true
   },
   "source": [
    "### 2a (4pt), solution\n",
    "\n",
    "One of the many uses of the scalar product is to find the angle between two given vectors. Find the angle between the vectors $\\boldsymbol{a}=(1,3,9)$ and $\\boldsymbol{b}=(9,3,1)$ by evaluating their scalar product. The vector product is given by:"
   ]
  },
  {
   "cell_type": "markdown",
   "id": "cf40c527",
   "metadata": {
    "editable": true
   },
   "source": [
    "$$\n",
    "\\boldsymbol{a}\\cdot\\boldsymbol{b} = \\vert \\boldsymbol{a} \\vert \\vert \\boldsymbol{b} \\vert \\cos{\\theta_{ab}}.\n",
    "$$"
   ]
  },
  {
   "cell_type": "markdown",
   "id": "d56f786f",
   "metadata": {
    "editable": true
   },
   "source": [
    "We have"
   ]
  },
  {
   "cell_type": "markdown",
   "id": "d86dc737",
   "metadata": {
    "editable": true
   },
   "source": [
    "$$\n",
    "\\boldsymbol{a}^T\\boldsymbol{b} = 1(9) \\boldsymbol{e}_1\\cdot\\boldsymbol{e}_1+ 3(3)\\boldsymbol{e}_2\\cdot\\boldsymbol{e}_2+ 9(1)\\boldsymbol{e}_3\\cdot\\boldsymbol{e}_3= 9+9+9=27,\n",
    "$$"
   ]
  },
  {
   "cell_type": "markdown",
   "id": "9054dba6",
   "metadata": {
    "editable": true
   },
   "source": [
    "since $\\boldsymbol{e}_i\\cdot\\boldsymbol{e}_i=1$ for our unit vectors, with $i=1,2,3$. Note also that the unit vectors are orthogonal, that is $\\boldsymbol{e}_i \\cdot \\boldsymbol{e}_j=0$ if $i\\ne j$.\n",
    "The norm of $\\vert \\boldsymbol{a}\\vert^2 = 1+9+81=91$. The norm of $\\vert \\boldsymbol{b}\\vert^2 = 81+9+1=91$. This means we have:"
   ]
  },
  {
   "cell_type": "markdown",
   "id": "55775991",
   "metadata": {
    "editable": true
   },
   "source": [
    "$$\n",
    "\\boldsymbol{a}^T\\boldsymbol{b} = 27 = 91 \\cos{\\theta_{ab}} = \\vert \\boldsymbol{a} \\vert \\vert \\boldsymbol{b} \\vert \\cos{\\theta_{ab}},\n",
    "$$"
   ]
  },
  {
   "cell_type": "markdown",
   "id": "a392afb5",
   "metadata": {
    "editable": true
   },
   "source": [
    "leading to $\\cos{\\theta_{ab}}=27/91$ and $\\theta_{ab}=1.2695 $ rad, with $1$ rad being equal to $180/pi$. Thus we have $\\theta_{ab}=72.74$ degrees.\n",
    "\n",
    "A small digression on linear algebra useful for python programming of vectors.\n",
    "We define the vectors as one-dimensional arrays meaning that we write\n",
    "$\\boldsymbol{a}^T=\\begin{bmatrix} 1 & 3 & 9\\end{bmatrix}$ and  $\\boldsymbol{b}^T=\\begin{bmatrix} 9 & 3 & 1\\end{bmatrix}$, where we use $T$ to indicate the transpose of a vector.\n",
    "\n",
    "We would then write the dot product as:"
   ]
  },
  {
   "cell_type": "markdown",
   "id": "a2d85a64",
   "metadata": {
    "editable": true
   },
   "source": [
    "$$\n",
    "\\boldsymbol{a}^T\\boldsymbol{b}=\\begin{bmatrix} 1 & 3 & 9\\end{bmatrix}\\begin{bmatrix} 9 \\\\ 3 \\\\ 1\\end{bmatrix}=27.\n",
    "$$"
   ]
  },
  {
   "cell_type": "markdown",
   "id": "32eb6ec3",
   "metadata": {
    "editable": true
   },
   "source": [
    "In Python we would code this as"
   ]
  },
  {
   "cell_type": "code",
   "execution_count": 3,
   "id": "727731a3",
   "metadata": {
    "collapsed": false,
    "editable": true
   },
   "outputs": [
    {
     "name": "stdout",
     "output_type": "stream",
     "text": [
      "72.7402973585292\n"
     ]
    }
   ],
   "source": [
    "# we import numpy and math functions\n",
    "import numpy as np\n",
    "from math import acos, sqrt, pi\n",
    "# Define a\n",
    "a =np.array([1,3,9])\n",
    "# Define b \n",
    "b =np.array([9,3,1])\n",
    "# to compute the dot products we use the dot function or the multiplication sign @\n",
    "norm_a = sqrt(np.dot(a,a))  # we could write it as a.T @ a or just a @ a\n",
    "# We will stick with the @ operator hereafter when we multiply vector or matrices\n",
    "norm_b = sqrt(b.T @ b)\n",
    "dot_ab = a.T @ b\n",
    "theta_ab = acos(dot_ab/(norm_a*norm_b))\n",
    "# convert to degrees\n",
    "print(theta_ab*180/pi)"
   ]
  },
  {
   "cell_type": "markdown",
   "id": "ab0c18cf",
   "metadata": {
    "editable": true
   },
   "source": [
    "### 2b (5pt), solution\n",
    "\n",
    "For a cube with sides of length 1, one vertex at the origin, and sides along the $x$, $y$, and $z$ axes, the vector of the body diagonal from the origin can be written $\\boldsymbol{a}=(1, 1, 1)$ and the vector of the face diagonal in the $xy$ plane from the origin is $\\boldsymbol{b}=(1,1,0)$. Find first the lengths of the body diagonal and the face diagonal. Use then part (2a) to find the angle between the body diagonal and the face diagonal.\n",
    "\n",
    "The length of the body diagonal $\\vert\\boldsymbol{b}\\vert=\\sqrt{3}$ and the length of the face diagonal is $\\vert \\boldsymbol{f}\\vert = \\sqrt{2}$. From this we find"
   ]
  },
  {
   "cell_type": "markdown",
   "id": "308778a3",
   "metadata": {
    "editable": true
   },
   "source": [
    "$$\n",
    "\\boldsymbol{b}^T\\boldsymbol{f}=2=\\sqrt{2}\\sqrt{3}\\cos{\\theta_{bf}},\n",
    "$$"
   ]
  },
  {
   "cell_type": "markdown",
   "id": "15af8fdc",
   "metadata": {
    "editable": true
   },
   "source": [
    "leading to $\\cos{\\theta_{bf}}=\\sqrt{2}/\\sqrt{3}$ and $\\theta_{bf}=0.615$ rad or\n",
    "$\\theta_{bf}=35.3$ degrees."
   ]
  },
  {
   "cell_type": "markdown",
   "id": "ec243674",
   "metadata": {},
   "source": [
    "### 2c (6pt), solution\n",
    "\n",
    "Consider two arbitrary vectors in three dimensions, $\\boldsymbol{a}=(a_x, a_y, a_z)$ and $\\boldsymbol{b}=(b_x, b_y, b_z)$. Prove that the cross product $\\boldsymbol{a} \\times \\boldsymbol{b}$ results in a vector that is perpendicular to both $\\boldsymbol{a}$ and $\\boldsymbol{b}$. Use the properties of the dot product and the cross product to support your proof. Include a diagram illustrating the vectors and their cross product."
   ]
  },
  {
   "cell_type": "markdown",
   "id": "bd81558e",
   "metadata": {},
   "source": [
    "The cross product of two vectors $\\boldsymbol{a}$ and $\\boldsymbol{b}$ is defined as:\n",
    "\n",
    "$$\n",
    "\\boldsymbol{a} \\times \\boldsymbol{b} = \\begin{vmatrix}\n",
    "\\boldsymbol{i} & \\boldsymbol{j} & \\boldsymbol{k} \\\\\n",
    "a_x & a_y & a_z \\\\\n",
    "b_x & b_y & b_z\n",
    "\\end{vmatrix},\n",
    "$$\n",
    "\n",
    "where $\\boldsymbol{i}$, $\\boldsymbol{j}$, and $\\boldsymbol{k}$ are the unit vectors in the x, y, and z directions, respectively.\n",
    "\n",
    "Using the determinant formula for the cross product, we have:\n",
    "\n",
    "$$\n",
    "\\boldsymbol{a} \\times \\boldsymbol{b} = (a_y b_z - a_z b_y)\\boldsymbol{i} - (a_x b_z - a_z b_x)\\boldsymbol{j} + (a_x b_y - a_y b_x)\\boldsymbol{k}.\n",
    "$$\n",
    "\n",
    "Let $\\boldsymbol{c} = \\boldsymbol{a} \\times \\boldsymbol{b}$, so $\\boldsymbol{c} = (c_x, c_y, c_z)$, where:\n",
    "\n",
    "$$\n",
    "c_x = a_y b_z - a_z b_y, \\\\\n",
    "c_y = a_z b_x - a_x b_z, \\\\\n",
    "c_z = a_x b_y - a_y b_x.\n",
    "$$\n",
    "\n",
    "To prove that $\\boldsymbol{c}$ is perpendicular to $\\boldsymbol{a}$ and $\\boldsymbol{b}$, we need to show that their dot products are zero:\n",
    "\n",
    "$$\n",
    "\\boldsymbol{a} \\cdot \\boldsymbol{c} = a_x c_x + a_y c_y + a_z c_z.\n",
    "$$\n",
    "\n",
    "Substitute the components of $\\boldsymbol{c}$:\n",
    "\n",
    "$$\n",
    "\\boldsymbol{a} \\cdot \\boldsymbol{c} = a_x (a_y b_z - a_z b_y) + a_y (a_z b_x - a_x b_z) + a_z (a_x b_y - a_y b_x).\n",
    "$$\n",
    "\n",
    "Expanding and simplifying, we find that all terms cancel out:\n",
    "\n",
    "$$\n",
    "\\boldsymbol{a} \\cdot \\boldsymbol{c} = a_x a_y b_z - a_x a_z b_y + a_y a_z b_x - a_y a_x b_z + a_z a_x b_y - a_z a_y b_x = 0.\n",
    "$$\n",
    "\n",
    "The proof is identical for $\\boldsymbol{b} \\cdot \\boldsymbol{c}$."
   ]
  },
  {
   "cell_type": "markdown",
   "id": "163ac884",
   "metadata": {
    "editable": true
   },
   "source": [
    "## Exercise 3 (10 pt), More vector mathematics"
   ]
  },
  {
   "cell_type": "markdown",
   "id": "5c32011f",
   "metadata": {
    "editable": true
   },
   "source": [
    "### 3a (5pt), solution\n",
    "\n",
    "Show (using the fact that multiplication of reals is distributive)\n",
    "that $\\boldsymbol{a}(\\boldsymbol{b}+\\boldsymbol{c})=\\boldsymbol{a}\\boldsymbol{b}+\\boldsymbol{a}\\boldsymbol{c}$.\n",
    "\n",
    "Writing out the equations and keeping in mind that the norm of unit vectors is one, we have"
   ]
  },
  {
   "cell_type": "markdown",
   "id": "d578e446",
   "metadata": {
    "editable": true
   },
   "source": [
    "$$\n",
    "\\begin{align*}\n",
    "\\boldsymbol{a}\\cdot(\\boldsymbol{b}+\\boldsymbol{c})=& a_1(b_1+c_1)+a_2(b_2+c_2)+a_3(b_3+c_3)\\\\\n",
    "=& (a_1b_1+a_1c_1)+(a_2b_2+a_2c_2)+(a_3b_3+a_3c_3)\\\\\n",
    "= & (a_1b_1+a_2b_2+a_3b_3)+(a_1c_1+a_2c_2+a_3c_3)\\\\\n",
    "= & \\boldsymbol{a}\\cdot\\boldsymbol{b}+\\boldsymbol{a}\\cdot\\boldsymbol{c}. \n",
    "\\end{align*}\n",
    "$$"
   ]
  },
  {
   "cell_type": "markdown",
   "id": "bbe96e08",
   "metadata": {
    "editable": true
   },
   "source": [
    "### 3b (5pt), solution\n",
    "\n",
    "Show that (using product rule for differentiating reals)\n",
    "$\\frac{d}{dt}(\\boldsymbol{a}\\boldsymbol{b})=\\boldsymbol{a}\\frac{d\\boldsymbol{b}}{dt}+\\boldsymbol{b}\\frac{d\\boldsymbol{a}}{dt}$."
   ]
  },
  {
   "cell_type": "markdown",
   "id": "e811091a",
   "metadata": {
    "editable": true
   },
   "source": [
    "$$\n",
    "\\begin{align*}\n",
    "\\frac{d}{dt}(\\boldsymbol{a}\\cdot\\boldsymbol{b})=& \\frac{d}{dt}(a_1b_1+a_2b_2+a_3b_3)\\\\\n",
    "=& \\left(a_1\\frac{db_1}{dt}+\\frac{da_1}{dt}b_1\\right)+\\left(a_2\\frac{db_2}{dt}+\\frac{da_2}{dt}b_2\\right)+\\left(a_3\\frac{db_3}{dt}+\\frac{da_3}{dt}b_3\\right)\\\\\n",
    "= & \\left(a_1\\frac{db_1}{dt}+a_2\\frac{db_2}{dt}+a_3\\frac{db_3}{dt}\\right)+\\left(\\frac{da_1}{dt}b_1+\\frac{da_2}{dt}b_2+\\frac{da_3}{dt}b_3\\right)\\\\\n",
    "= & \\boldsymbol{a}\\cdot\\frac{d\\boldsymbol{b}}{dt}+\\frac{d\\boldsymbol{a}}{dt}\\cdot\\boldsymbol{b}. \n",
    "\\end{align*}\n",
    "$$"
   ]
  },
  {
   "cell_type": "markdown",
   "id": "2c1787a1",
   "metadata": {
    "editable": true
   },
   "source": [
    "## Exercise 4 (10 pt), Algebra of cross products"
   ]
  },
  {
   "cell_type": "markdown",
   "id": "7b9367b7",
   "metadata": {
    "editable": true
   },
   "source": [
    "### 4a (5pt), solution\n",
    "\n",
    "Show that the cross products are distribuitive\n",
    "$\\boldsymbol{a}\\times(\\boldsymbol{b}+\\boldsymbol{c})=\\boldsymbol{a}\\times\\boldsymbol{b}+\\boldsymbol{a}\\times\\boldsymbol{c}$.\n",
    "\n",
    "To prove the distributive property of the cross product for vectors in three-dimensional space, we need to show that for any vectors $\\boldsymbol{a}$, $\\boldsymbol{b}$, and $\\boldsymbol{c}$, the following holds:\n",
    "\n",
    "$$ \\boldsymbol{a}\\times(\\boldsymbol{b}+\\boldsymbol{c})=\\boldsymbol{a}\\times\\boldsymbol{b}+\\boldsymbol{a}\\times\\boldsymbol{c}. $$\n",
    "\n",
    "Let's denote $\\boldsymbol{a} = (a_x, a_y, a_z)$, $\\boldsymbol{b} = (b_x, b_y, b_z)$, and $\\boldsymbol{c} = (c_x, c_y, c_z)$.\n",
    "\n",
    "The vector sum $\\boldsymbol{b}+\\boldsymbol{c}$ is given by:\n",
    "\n",
    "$$ \\boldsymbol{b}+\\boldsymbol{c} = (b_x + c_x, b_y + c_y, b_z + c_z). $$\n",
    "\n",
    "Now, we compute the cross product of $\\boldsymbol{a}$ with this sum:\n",
    "\n",
    "$$\n",
    "\\boldsymbol{a}\\times(\\boldsymbol{b}+\\boldsymbol{c}) = \\begin{vmatrix}\n",
    "\\boldsymbol{i} & \\boldsymbol{j} & \\boldsymbol{k} \\\\\n",
    "a_x & a_y & a_z \\\\\n",
    "b_x + c_x & b_y + c_y & b_z + c_z\n",
    "\\end{vmatrix},\n",
    "$$\n",
    "\n",
    "which yields:\n",
    "\n",
    "$$\n",
    "\\boldsymbol{a}\\times(\\boldsymbol{b}+\\boldsymbol{c}) = (a_y(b_z + c_z) - a_z(b_y + c_y))\\boldsymbol{i} - (a_x(b_z + c_z) - a_z(b_x + c_x))\\boldsymbol{j} + (a_x(b_y + c_y) - a_y(b_x + c_x))\\boldsymbol{k}.\n",
    "$$\n",
    "\n",
    "Expanding this, we get:\n",
    "\n",
    "$$\n",
    "\\boldsymbol{a}\\times(\\boldsymbol{b}+\\boldsymbol{c}) = (a_y b_z + a_y c_z - a_z b_y - a_z c_y)\\boldsymbol{i} - (a_x b_z + a_x c_z - a_z b_x - a_z c_x)\\boldsymbol{j} + (a_x b_y + a_x c_y - a_y b_x - a_y c_x)\\boldsymbol{k}.\n",
    "$$\n",
    "\n",
    "Next, we compute the cross products $\\boldsymbol{a}\\times\\boldsymbol{b}$ and $\\boldsymbol{a}\\times\\boldsymbol{c}$ separately:\n",
    "\n",
    "$$\n",
    "\\boldsymbol{a}\\times\\boldsymbol{b} = \\begin{vmatrix}\n",
    "\\boldsymbol{i} & \\boldsymbol{j} & \\boldsymbol{k} \\\\\n",
    "a_x & a_y & a_z \\\\\n",
    "b_x & b_y & b_z\n",
    "\\end{vmatrix}\n",
    "= (a_y b_z - a_z b_y)\\boldsymbol{i} - (a_x b_z - a_z b_x)\\boldsymbol{j} + (a_x b_y - a_y b_x)\\boldsymbol{k},\n",
    "$$\n",
    "\n",
    "and\n",
    "\n",
    "$$\n",
    "\\boldsymbol{a}\\times\\boldsymbol{c} = \\begin{vmatrix}\n",
    "\\boldsymbol{i} & \\boldsymbol{j} & \\boldsymbol{k} \\\\\n",
    "a_x & a_y & a_z \\\\\n",
    "c_x & c_y & c_z\n",
    "\\end{vmatrix}\n",
    "= (a_y c_z - a_z c_y)\\boldsymbol{i} - (a_x c_z - a_z c_x)\\boldsymbol{j} + (a_x c_y - a_y c_x)\\boldsymbol{k}.\n",
    "$$\n",
    "\n",
    "Now, we add the two cross products:\n",
    "\n",
    "$$\n",
    "(\\boldsymbol{a}\\times\\boldsymbol{b}) + (\\boldsymbol{a}\\times\\boldsymbol{c}) = [(a_y b_z - a_z b_y) + (a_y c_z - a_z c_y)]\\boldsymbol{i} - [(a_x b_z - a_z b_x) + (a_x c_z - a_z c_x)]\\boldsymbol{j} + [(a_x b_y - a_y b_x) + (a_x c_y - a_y c_x)]\\boldsymbol{k}.\n",
    "$$\n",
    "\n",
    "Simplifying, we get:\n",
    "\n",
    "$$\n",
    "(\\boldsymbol{a}\\times\\boldsymbol{b}) + (\\boldsymbol{a}\\times\\boldsymbol{c}) = (a_y b_z + a_y c_z - a_z b_y - a_z c_y)\\boldsymbol{i} - (a_x b_z + a_x c_z - a_z b_x - a_z c_x)\\boldsymbol{j} + (a_x b_y + a_x c_y - a_y b_x - a_y c_x)\\boldsymbol{k}.\n",
    "$$\n",
    "\n",
    "Comparing the expanded form of $\\boldsymbol{a}\\times(\\boldsymbol{b}+\\boldsymbol{c})$ with the sum $(\\boldsymbol{a}\\times\\boldsymbol{b}) + (\\boldsymbol{a}\\times\\boldsymbol{c})$, we can see that they are identical:\n",
    "\n",
    "$$\n",
    "\\boldsymbol{a}\\times(\\boldsymbol{b}+\\boldsymbol{c}) = (\\boldsymbol{a}\\times\\boldsymbol{b}) + (\\boldsymbol{a}\\times\\boldsymbol{c}).\n",
    "$$"
   ]
  },
  {
   "cell_type": "markdown",
   "id": "d28d7fa5",
   "metadata": {
    "editable": true
   },
   "source": [
    "### 4b (5pt), solution\n",
    "\n",
    "Show that\n",
    "$\\frac{d}{dt}(\\boldsymbol{a}\\times\\boldsymbol{b})=\\boldsymbol{a}\\times\\frac{d\\boldsymbol{b}}{dt}+\\boldsymbol{b}\\times\\frac{d\\boldsymbol{a}}{dt}$. Be\n",
    "careful with the order of factors\n",
    "\n",
    "To show that the time derivative of the cross product of two vectors $\\boldsymbol{a}$ and $\\boldsymbol{b}$ equals the cross product of the first vector and the time derivative of the second vector plus the time derivative of the first vector cross the second vector, we can use the properties of derivatives and the cross product.\n",
    "\n",
    "Given two time-dependent vectors $\\boldsymbol{a}(t) = (a_x(t), a_y(t), a_z(t))$ and $\\boldsymbol{b}(t) = (b_x(t), b_y(t), b_z(t))$, we want to prove that:\n",
    "\n",
    "$$ \\frac{d}{dt}(\\boldsymbol{a}(t) \\times \\boldsymbol{b}(t)) = \\boldsymbol{a}(t) \\times \\frac{d\\boldsymbol{b}(t)}{dt} + \\frac{d\\boldsymbol{a}(t)}{dt} \\times \\boldsymbol{b}(t). $$\n",
    "\n",
    "The cross product $\\boldsymbol{a}(t) \\times \\boldsymbol{b}(t)$ is given by:\n",
    "\n",
    "$$ \\boldsymbol{a}(t) \\times \\boldsymbol{b}(t) = (a_y(t) b_z(t) - a_z(t) b_y(t), a_z(t) b_x(t) - a_x(t) b_z(t), a_x(t) b_y(t) - a_y(t) b_x(t)). $$\n",
    "\n",
    "Now, take the time derivative of the cross product component-wise:\n",
    "\n",
    "$$ \\frac{d}{dt}(\\boldsymbol{a}(t) \\times \\boldsymbol{b}(t)) = \\left(\\frac{d}{dt}(a_y(t) b_z(t) - a_z(t) b_y(t)), \\frac{d}{dt}(a_z(t) b_x(t) - a_x(t) b_z(t)), \\frac{d}{dt}(a_x(t) b_y(t) - a_y(t) b_x(t))\\right). $$\n",
    "\n",
    "Applying the product rule to each component, we get:\n",
    "\n",
    "$$ \\frac{d}{dt}(\\boldsymbol{a}(t) \\times \\boldsymbol{b}(t)) = \\left(a_y(t) \\frac{db_z(t)}{dt} + \\frac{da_y(t)}{dt} b_z(t) - a_z(t) \\frac{db_y(t)}{dt} - \\frac{da_z(t)}{dt} b_y(t), \\right. $$\n",
    "$$ \\left. a_z(t) \\frac{db_x(t)}{dt} + \\frac{da_z(t)}{dt} b_x(t) - a_x(t) \\frac{db_z(t)}{dt} - \\frac{da_x(t)}{dt} b_z(t), \\right. $$\n",
    "$$ \\left. a_x(t) \\frac{db_y(t)}{dt} + \\frac{da_x(t)}{dt} b_y(t) - a_y(t) \\frac{db_x(t)}{dt} - \\frac{da_y(t)}{dt} b_x(t) \\right). $$\n",
    "\n",
    "Now, we rearrange the terms to separate the contributions from $\\boldsymbol{a}(t)$ and the derivatives of $\\boldsymbol{b}(t)$, and vice versa:\n",
    "\n",
    "$$ \\frac{d}{dt}(\\boldsymbol{a}(t) \\times \\boldsymbol{b}(t)) = \\left(a_y(t) \\frac{db_z(t)}{dt} - a_z(t) \\frac{db_y(t)}{dt}, a_z(t) \\frac{db_x(t)}{dt} - a_x(t) \\frac{db_z(t)}{dt}, a_x(t) \\frac{db_y(t)}{dt} - a_y(t) \\frac{db_x(t)}{dt}\\right) $$\n",
    "$$ + \\left(\\frac{da_y(t)}{dt} b_z(t) - \\frac{da_z(t)}{dt} b_y(t), \\frac{da_z(t)}{dt} b_x(t) - \\frac{da_x(t)}{dt} b_z(t), \\frac{da_x(t)}{dt} b_y(t) - \\frac{da_y(t)}{dt} b_x(t)\\right). $$\n",
    "\n",
    "\n",
    "The first set of terms corresponds to $\\boldsymbol{a}(t)$ crossed with the time derivative of $\\boldsymbol{b}(t)$, and the second set of terms corresponds to the time derivative of $\\boldsymbol{a}(t)$ crossed with $\\boldsymbol{b}(t)$:\n",
    "\n",
    "$$ \\boldsymbol{a}(t) \\times \\frac{d\\boldsymbol{b}(t)}{dt} = \\left(a_y(t) \\frac{db_z(t)}{dt} - a_z(t) \\frac{db_y(t)}{dt}, a_z(t) \\frac{db_x(t)}{dt} - a_x(t) \\frac{db_z(t)}{dt}, a_x(t) \\frac{db_y(t)}{dt} - a_y(t) \\frac{db_x(t)}{dt}\\right), $$\n",
    "\n",
    "$$ \\frac{d\\boldsymbol{a}(t)}{dt} \\times \\boldsymbol{b}(t) = \\left(\\frac{da_y(t)}{dt} b_z(t) - \\frac{da_z(t)}{dt} b_y(t), \\frac{da_z(t)}{dt} b_x(t) - \\frac{da_x(t)}{dt} b_z(t), \\frac{da_x(t)}{dt} b_y(t) - \\frac{da_y(t)}{dt} b_x(t)\\right). $$\n",
    "\n",
    "\n",
    "Combining these two cross products, we obtain the original expression:\n",
    "\n",
    "$$ \\frac{d}{dt}(\\boldsymbol{a}(t) \\times \\boldsymbol{b}(t)) = \\boldsymbol{a}(t) \\times \\frac{d\\boldsymbol{b}(t)}{dt} + \\frac{d\\boldsymbol{a}(t)}{dt} \\times \\boldsymbol{b}(t). $$\n",
    "\n",
    "This proves the required relationship and demonstrates that the time derivative of a cross product can be distributed across the cross product operation while maintaining the order of factors, which is crucial because the cross product is not commutative."
   ]
  },
  {
   "cell_type": "markdown",
   "id": "6405ac2b",
   "metadata": {
    "editable": true
   },
   "source": [
    "## Exercise 5 (10 pt), Area of triangle and law of sines\n",
    "\n",
    "The three vectors $\\boldsymbol{a}$, $\\boldsymbol{b}$, and $\\boldsymbol{c}$ are the three sides of a triangle *ABC*. The angles $\\alpha$, $\\beta$, and $\\gamma$ are the angles opposite the sides $\\boldsymbol{a}$, $\\boldsymbol{b}$, and $\\boldsymbol{c}$, respectively. as shown below.\n",
    "\n",
    "![triangle](../images/assignments/1.15-triangle.png)\n",
    "\n",
    "*(Figure: A triangle with sides $\\boldsymbol{a}$, $\\boldsymbol{b}$, and $\\boldsymbol{c}$ and angles $\\alpha$, $\\beta$, and $\\gamma$; reproduced from JRT.)*"
   ]
  },
  {
   "cell_type": "markdown",
   "id": "8dfcf174",
   "metadata": {
    "editable": true
   },
   "source": [
    "### 5a (5pt), solution\n",
    "\n",
    "Show that the area of the triangle can be given by any of these three equivalent expressions: $A=\\frac{1}{2}|\\boldsymbol{a}\\times\\boldsymbol{b}|=\\frac{1}{2}|\\boldsymbol{b}\\times\\boldsymbol{c}|=\\frac{1}{2}|\\boldsymbol{c}\\times\\boldsymbol{a}|$.\n",
    "\n",
    "If we place the vertex $A$ at the origin and side $b$ along the $x$-axis, then the magnitude\n",
    "of the cross product $\\boldsymbol{b}\\times \\boldsymbol{c}$ gives"
   ]
  },
  {
   "cell_type": "markdown",
   "id": "2fa19db8",
   "metadata": {
    "editable": true
   },
   "source": [
    "$$\n",
    "\\vert \\boldsymbol{b}\\times \\boldsymbol{c}\\vert = \\vert b_xc_y-b_yc_x\\vert =\\vert b_xc_y-0\\dots c_x\\vert =b_xc_y,\n",
    "$$"
   ]
  },
  {
   "cell_type": "markdown",
   "id": "0fbb17e8",
   "metadata": {
    "editable": true
   },
   "source": [
    "which is nothing but the magnitude of the base multiplied with the magnitude of the height.\n",
    "We recognize that $c_y$ is the height of the vertx $B$ above the $x$-axis. From this we get that the area is"
   ]
  },
  {
   "cell_type": "markdown",
   "id": "69ae8831",
   "metadata": {
    "editable": true
   },
   "source": [
    "$$\n",
    "\\mathrm{area}=\\frac{1}{2}(\\mathrm{base})\\cdot(\\mathrm{height})=\\frac{1}{2}\\vert \\boldsymbol{b}\\times \\boldsymbol{c}\\vert,\n",
    "$$"
   ]
  },
  {
   "cell_type": "markdown",
   "id": "cc5b9c78",
   "metadata": {
    "editable": true
   },
   "source": [
    "which we were supposed to show."
   ]
  },
  {
   "cell_type": "markdown",
   "id": "31ac9680",
   "metadata": {
    "editable": true
   },
   "source": [
    "### 5b (5pt), solution\n",
    "\n",
    "From part 5a, using the formula for the magnitude of the cross product we have"
   ]
  },
  {
   "cell_type": "markdown",
   "id": "66e57476",
   "metadata": {
    "editable": true
   },
   "source": [
    "$$\n",
    "\\mathrm{area}=\\frac{1}{2}ab\\sin{\\gamma}=\\frac{1}{2}bc\\sin{\\alpha}=\\frac{1}{2}ca\\sin{\\beta},\n",
    "$$"
   ]
  },
  {
   "cell_type": "markdown",
   "id": "26625bde",
   "metadata": {
    "editable": true
   },
   "source": [
    "which leads to"
   ]
  },
  {
   "cell_type": "markdown",
   "id": "8bbc23dc",
   "metadata": {
    "editable": true
   },
   "source": [
    "$$\n",
    "\\frac{abc}{2\\mathrm{area}}=    \\frac{c}{\\sin{\\gamma}}=\\frac{a}{\\sin{\\alpha}}=\\frac{b}{\\sin{\\beta}}.\n",
    "$$"
   ]
  },
  {
   "cell_type": "markdown",
   "id": "e0a906ee",
   "metadata": {
    "editable": true
   },
   "source": [
    "## Exercise 6 (40pt), Numerical elements, getting started with some simple data\n",
    "\n",
    "Our first numerical attempt will involve reading data from file or\n",
    "just setting up two vectors, one for position and one for time. Our data are from \n",
    "[Usain Bolt's world record 100m during the olympic games in Beijing in\n",
    "2008](https://www.youtube.com/watch?v=93dC0o2aHto). The data show the time used in units of 10m (see below). Before we however\n",
    "venture into this, we need to repeat some basic Python syntax with an\n",
    "emphasis on\n",
    "\n",
    "* basic Python syntax for arrays\n",
    "\n",
    "* define and operate on vectors and matrices in Python\n",
    "\n",
    "* create plots for motion in 1D space\n",
    "\n",
    "For more information, see the [introductory slides](https://mhjensen.github.io/Physics321/doc/pub/week3/html/week3.html).\n",
    "Here are some of the basic packages we will be using this week"
   ]
  },
  {
   "cell_type": "code",
   "execution_count": 4,
   "id": "a7ac42e9",
   "metadata": {
    "collapsed": false,
    "editable": true
   },
   "outputs": [],
   "source": [
    "%matplotlib inline\n",
    "\n",
    "import numpy as np \n",
    "import matplotlib.pyplot as plt\n",
    "%matplotlib inline"
   ]
  },
  {
   "cell_type": "markdown",
   "id": "3db8ff02",
   "metadata": {
    "editable": true
   },
   "source": [
    "The first exercise here deals with simply getting familiar with vectors and matrices.\n",
    "\n",
    "We will be working with vectors and matrices to get you familiar with them\n",
    "\n",
    "1. Initalize two three-dimensional $xyz$ vectors in the below cell using np.array([x,y,z]). Vectors are represented through arrays in python\n",
    "\n",
    "2. V1 should have x1=1, y1 =2, and z1=3. \n",
    "\n",
    "3. Vector 2 should have x2=4, y2=5,  and z2=6. \n",
    "\n",
    "4. Print both vectors to make sure your code is working properly."
   ]
  },
  {
   "cell_type": "code",
   "execution_count": 5,
   "id": "ff8a7495",
   "metadata": {
    "collapsed": false,
    "editable": true
   },
   "outputs": [
    {
     "name": "stdout",
     "output_type": "stream",
     "text": [
      "V1:  [1 2 3]\n",
      "V2:  [4 5 6]\n"
     ]
    }
   ],
   "source": [
    "V1 = np.array([1,2,3])\n",
    "V2 = np.array([4,5,6])\n",
    "print(\"V1: \", V1)\n",
    "print(\"V2: \", V2)"
   ]
  },
  {
   "cell_type": "markdown",
   "id": "25c3cb3b",
   "metadata": {
    "editable": true
   },
   "source": [
    "If this is not too familiar, here's a useful link for creating vectors in python <https://docs.scipy.org/doc/numpy-1.13.0/user/basics.creation.html>. Alternatively, look up the [introductory slides](https://mhjensen.github.io/Physics321/doc/pub/Introduction/html/Introduction.html).\n",
    "\n",
    "Now lets do some basic mathematics with vectors.\n",
    "\n",
    "Compute and print the following, and double check with hand calculations:\n",
    "\n",
    "* 6a (2pt)  Calculate $\\boldsymbol{V}_1-\\boldsymbol{V}_2$.\n",
    "\n",
    "* 6b (2pt)  Calculate $\\boldsymbol{V}_2-\\boldsymbol{V}_1$.\n",
    "\n",
    "* 6c (2pt) Calculate the dot product $\\boldsymbol{V}_1\\boldsymbol{V}_2$.\n",
    "\n",
    "* 6d (2pt) Calculate the cross product $\\boldsymbol{V}_1\\times\\boldsymbol{V}_2$.\n",
    "\n",
    "Here is some useful explanation on numpy array operations if you feel a bit confused by what is happening, see <https://www.pluralsight.com/guides/overview-basic-numpy-operations>"
   ]
  },
  {
   "cell_type": "markdown",
   "id": "7fc4b43e",
   "metadata": {
    "editable": true
   },
   "source": [
    "### 6a-6d, solutions\n",
    "\n",
    "The following code prints the first two exercises"
   ]
  },
  {
   "cell_type": "code",
   "execution_count": 6,
   "id": "d288b0d0",
   "metadata": {
    "collapsed": false,
    "editable": true
   },
   "outputs": [
    {
     "name": "stdout",
     "output_type": "stream",
     "text": [
      "[-3 -3 -3]\n",
      "[3 3 3]\n"
     ]
    }
   ],
   "source": [
    "print(V1-V2)\n",
    "print(V2-V1)"
   ]
  },
  {
   "cell_type": "markdown",
   "id": "0f01049a",
   "metadata": {
    "editable": true
   },
   "source": [
    "For the dot product of V1 and V2 below we can use the **dot** function of **numpy** as follows"
   ]
  },
  {
   "cell_type": "code",
   "execution_count": 7,
   "id": "a5b887d7",
   "metadata": {
    "collapsed": false,
    "editable": true
   },
   "outputs": [
    {
     "name": "stdout",
     "output_type": "stream",
     "text": [
      "32\n"
     ]
    }
   ],
   "source": [
    "print(V1.dot(V2))"
   ]
  },
  {
   "cell_type": "markdown",
   "id": "db3918b5",
   "metadata": {
    "editable": true
   },
   "source": [
    "Alternatively, and this is the way it is normally written in Python now, we have"
   ]
  },
  {
   "cell_type": "code",
   "execution_count": 8,
   "id": "88ad6f9d",
   "metadata": {
    "collapsed": false,
    "editable": true
   },
   "outputs": [
    {
     "name": "stdout",
     "output_type": "stream",
     "text": [
      "32\n"
     ]
    }
   ],
   "source": [
    "print(V1 @ V2)"
   ]
  },
  {
   "cell_type": "markdown",
   "id": "c8034571",
   "metadata": {
    "editable": true
   },
   "source": [
    "A personal remark: I am not too fond of this notation!\n",
    "\n",
    "As a small challenge try to write your own function for the **dot** product of two vectors.\n",
    "\n",
    "Matrices can be created in a similar fashion in python.  In this\n",
    "language we can work with them through the package numpy (which we\n",
    "have already imported)"
   ]
  },
  {
   "cell_type": "code",
   "execution_count": 9,
   "id": "7238694d",
   "metadata": {
    "collapsed": false,
    "editable": true
   },
   "outputs": [],
   "source": [
    "M1 = np.matrix([[1,2,3],\n",
    "             [4,5,6],\n",
    "             [7,8,9]])\n",
    "M2 = np.matrix([[1,2],\n",
    "             [3,4],\n",
    "             [5,6]])\n",
    "M3 = np.matrix([[9,8,7],\n",
    "             [4,5,6],\n",
    "             [7,6,9]])"
   ]
  },
  {
   "cell_type": "markdown",
   "id": "f363bf9b",
   "metadata": {
    "editable": true
   },
   "source": [
    "Matrices can be added in the same way vectors are added in python as shown here"
   ]
  },
  {
   "cell_type": "code",
   "execution_count": 10,
   "id": "7c96f3ba",
   "metadata": {
    "collapsed": false,
    "editable": true
   },
   "outputs": [
    {
     "name": "stdout",
     "output_type": "stream",
     "text": [
      "M1+M3:  [[10 10 10]\n",
      " [ 8 10 12]\n",
      " [14 14 18]]\n"
     ]
    }
   ],
   "source": [
    "print(\"M1+M3: \", M1+M3)"
   ]
  },
  {
   "cell_type": "markdown",
   "id": "f3fce498",
   "metadata": {
    "editable": true
   },
   "source": [
    "What happens if we try to do $M1+M2$?\n",
    "\n",
    "That's enough vectors and matrices for now. Let's move on to some physics problems! Yes, the actual subject we are studying for. \n",
    "\n",
    "We can opt for two different ways of handling the data. The data is listed in the table here and represents the total time Usain Bolt used in steps of  10 meters of distance. The label $i$ is just a counter and we start from zero since Python arrays are by default set from zero. The variable $t$ is time in seconds and $x$ is the position in meters.\n",
    "\n",
    "<table class=\"dotable\" border=\"1\">\n",
    "<thead>\n",
    "<tr><th align=\"center\"> i  </th> <th align=\"center\"> 0  </th> <th align=\"center\"> 1  </th> <th align=\"center\"> 2  </th> <th align=\"center\"> 3  </th> <th align=\"center\"> 4  </th> <th align=\"center\"> 5  </th> <th align=\"center\"> 6  </th> <th align=\"center\"> 7  </th> <th align=\"center\"> 8  </th> <th align=\"center\"> 9  </th> </tr>\n",
    "</thead>\n",
    "<tbody>\n",
    "<tr><td align=\"center\">   x[m]    </td> <td align=\"center\">   10      </td> <td align=\"center\">   20      </td> <td align=\"center\">   30      </td> <td align=\"center\">   40      </td> <td align=\"center\">   50      </td> <td align=\"center\">   60      </td> <td align=\"center\">   70      </td> <td align=\"center\">   80      </td> <td align=\"center\">   90      </td> <td align=\"center\">   100     </td> </tr>\n",
    "<tr><td align=\"center\">   t[s]    </td> <td align=\"center\">   1.85    </td> <td align=\"center\">   2.87    </td> <td align=\"center\">   3.78    </td> <td align=\"center\">   4.65    </td> <td align=\"center\">   5.50    </td> <td align=\"center\">   6.32    </td> <td align=\"center\">   7.14    </td> <td align=\"center\">   7.96    </td> <td align=\"center\">   8.79    </td> <td align=\"center\">   9.69    </td> </tr>\n",
    "</tbody>\n",
    "</table>"
   ]
  },
  {
   "cell_type": "markdown",
   "id": "c6a936ef",
   "metadata": {
    "editable": true
   },
   "source": [
    "### 6e-6f (6pt)+(6pt), solution\n",
    "\n",
    "You can here make a file with the above data and read them in and set\n",
    "up two vectors, one for time and one for position. Alternatively, you\n",
    "can just set up these two vectors directly and define two vectors in\n",
    "your Python code.\n",
    "**Note** we add by hand the initial conditions with position and time set to zero!\n",
    "\n",
    "The following example code may help here. It plots the solution as well."
   ]
  },
  {
   "cell_type": "code",
   "execution_count": 11,
   "id": "662f5ccc",
   "metadata": {
    "collapsed": false,
    "editable": true
   },
   "outputs": [
    {
     "data": {
      "image/png": "[encoded data removed]",
      "text/plain": [
       "<Figure size 640x480 with 1 Axes>"
      ]
     },
     "metadata": {},
     "output_type": "display_data"
    }
   ],
   "source": [
    "# we just initialize time and position\n",
    "x = np.array([0.0, 10.0, 20.0, 30.0, 40.0, 50.0, 60.0, 70.0, 80.0, 90.0, 100.0])\n",
    "t = np.array([0.0,1.85, 2.87, 3.78, 4.65, 5.50, 6.32, 7.14, 7.96, 8.79, 9.69])\n",
    "plt.plot(t,x, color='black')\n",
    "plt.xlabel(\"Time t[s]\")\n",
    "plt.ylabel(\"Position x[m]\")\n",
    "plt.title(\"Usain Bolt's world record run\")\n",
    "plt.show()"
   ]
  },
  {
   "cell_type": "markdown",
   "id": "50386613",
   "metadata": {
    "editable": true
   },
   "source": [
    "### 6g (10pt), solution\n",
    "\n",
    "Compute thereafter the mean velocity for every interval $i$ and the total velocity (from $i=0$ to the given interval $i$) for each interval and plot these two quantities as function of time. Comment your results."
   ]
  },
  {
   "cell_type": "code",
   "execution_count": 12,
   "id": "2e8e1cff",
   "metadata": {
    "collapsed": false,
    "editable": true
   },
   "outputs": [],
   "source": [
    "# Now we can compute the mean velocity using our data\n",
    "# We define first an array Vaverage\n",
    "n = np.size(t)\n",
    "Vaverage = np.zeros(n)\n",
    "TotalVaverage = np.zeros(n)\n",
    "for i in range(1,n):\n",
    "    Vaverage[i] = (x[i]-x[i-1])/(t[i]-t[i-1])\n",
    "    TotalVaverage[i] = (x[i]-x[0])/(t[i]-t[0])"
   ]
  },
  {
   "cell_type": "markdown",
   "id": "ac358217",
   "metadata": {
    "editable": true
   },
   "source": [
    "### 6h (10pt), solution\n",
    "\n",
    "Finally, compute and print and plot the mean velocities, total average velocity, acceleration for each interval and the total acceleration."
   ]
  },
  {
   "cell_type": "code",
   "execution_count": 13,
   "id": "99aab9b6",
   "metadata": {
    "collapsed": false,
    "editable": true
   },
   "outputs": [
    {
     "data": {
      "text/html": [
       "<div>\n",
       "<style scoped>\n",
       "    .dataframe tbody tr th:only-of-type {\n",
       "        vertical-align: middle;\n",
       "    }\n",
       "\n",
       "    .dataframe tbody tr th {\n",
       "        vertical-align: top;\n",
       "    }\n",
       "\n",
       "    .dataframe thead th {\n",
       "        text-align: right;\n",
       "    }\n",
       "</style>\n",
       "<table border=\"1\" class=\"dataframe\">\n",
       "  <thead>\n",
       "    <tr style=\"text-align: right;\">\n",
       "      <th></th>\n",
       "      <th>t[s]</th>\n",
       "      <th>x[m]</th>\n",
       "      <th>v[m/s]</th>\n",
       "      <th>Totvaver[m/s]</th>\n",
       "      <th>a[m/s^2]</th>\n",
       "      <th>TotAaver[m/s]</th>\n",
       "    </tr>\n",
       "  </thead>\n",
       "  <tbody>\n",
       "    <tr>\n",
       "      <th>0</th>\n",
       "      <td>0.00</td>\n",
       "      <td>0.0</td>\n",
       "      <td>0.000000</td>\n",
       "      <td>0.000000</td>\n",
       "      <td>0.000000e+00</td>\n",
       "      <td>0.000000</td>\n",
       "    </tr>\n",
       "    <tr>\n",
       "      <th>1</th>\n",
       "      <td>1.85</td>\n",
       "      <td>10.0</td>\n",
       "      <td>5.405405</td>\n",
       "      <td>5.405405</td>\n",
       "      <td>2.921841e+00</td>\n",
       "      <td>2.921841</td>\n",
       "    </tr>\n",
       "    <tr>\n",
       "      <th>2</th>\n",
       "      <td>2.87</td>\n",
       "      <td>20.0</td>\n",
       "      <td>9.803922</td>\n",
       "      <td>6.968641</td>\n",
       "      <td>4.312271e+00</td>\n",
       "      <td>3.416001</td>\n",
       "    </tr>\n",
       "    <tr>\n",
       "      <th>3</th>\n",
       "      <td>3.78</td>\n",
       "      <td>30.0</td>\n",
       "      <td>10.989011</td>\n",
       "      <td>7.936508</td>\n",
       "      <td>1.302296e+00</td>\n",
       "      <td>2.907146</td>\n",
       "    </tr>\n",
       "    <tr>\n",
       "      <th>4</th>\n",
       "      <td>4.65</td>\n",
       "      <td>40.0</td>\n",
       "      <td>11.494253</td>\n",
       "      <td>8.602151</td>\n",
       "      <td>5.807378e-01</td>\n",
       "      <td>2.471882</td>\n",
       "    </tr>\n",
       "    <tr>\n",
       "      <th>5</th>\n",
       "      <td>5.50</td>\n",
       "      <td>50.0</td>\n",
       "      <td>11.764706</td>\n",
       "      <td>9.090909</td>\n",
       "      <td>3.181800e-01</td>\n",
       "      <td>2.139037</td>\n",
       "    </tr>\n",
       "    <tr>\n",
       "      <th>6</th>\n",
       "      <td>6.32</td>\n",
       "      <td>60.0</td>\n",
       "      <td>12.195122</td>\n",
       "      <td>9.493671</td>\n",
       "      <td>5.248976e-01</td>\n",
       "      <td>1.929608</td>\n",
       "    </tr>\n",
       "    <tr>\n",
       "      <th>7</th>\n",
       "      <td>7.14</td>\n",
       "      <td>70.0</td>\n",
       "      <td>12.195122</td>\n",
       "      <td>9.803922</td>\n",
       "      <td>1.516402e-14</td>\n",
       "      <td>1.708000</td>\n",
       "    </tr>\n",
       "    <tr>\n",
       "      <th>8</th>\n",
       "      <td>7.96</td>\n",
       "      <td>80.0</td>\n",
       "      <td>12.195122</td>\n",
       "      <td>10.050251</td>\n",
       "      <td>-1.516402e-14</td>\n",
       "      <td>1.532050</td>\n",
       "    </tr>\n",
       "    <tr>\n",
       "      <th>9</th>\n",
       "      <td>8.79</td>\n",
       "      <td>90.0</td>\n",
       "      <td>12.048193</td>\n",
       "      <td>10.238908</td>\n",
       "      <td>-1.770231e-01</td>\n",
       "      <td>1.370670</td>\n",
       "    </tr>\n",
       "    <tr>\n",
       "      <th>10</th>\n",
       "      <td>9.69</td>\n",
       "      <td>100.0</td>\n",
       "      <td>11.111111</td>\n",
       "      <td>10.319917</td>\n",
       "      <td>-1.041202e+00</td>\n",
       "      <td>1.146657</td>\n",
       "    </tr>\n",
       "  </tbody>\n",
       "</table>\n",
       "</div>"
      ],
      "text/plain": [
       "    t[s]   x[m]     v[m/s]  Totvaver[m/s]      a[m/s^2]  TotAaver[m/s]\n",
       "0   0.00    0.0   0.000000       0.000000  0.000000e+00       0.000000\n",
       "1   1.85   10.0   5.405405       5.405405  2.921841e+00       2.921841\n",
       "2   2.87   20.0   9.803922       6.968641  4.312271e+00       3.416001\n",
       "3   3.78   30.0  10.989011       7.936508  1.302296e+00       2.907146\n",
       "4   4.65   40.0  11.494253       8.602151  5.807378e-01       2.471882\n",
       "5   5.50   50.0  11.764706       9.090909  3.181800e-01       2.139037\n",
       "6   6.32   60.0  12.195122       9.493671  5.248976e-01       1.929608\n",
       "7   7.14   70.0  12.195122       9.803922  1.516402e-14       1.708000\n",
       "8   7.96   80.0  12.195122      10.050251 -1.516402e-14       1.532050\n",
       "9   8.79   90.0  12.048193      10.238908 -1.770231e-01       1.370670\n",
       "10  9.69  100.0  11.111111      10.319917 -1.041202e+00       1.146657"
      ]
     },
     "metadata": {},
     "output_type": "display_data"
    }
   ],
   "source": [
    "# Now we can compute the mean acceleration using our data\n",
    "# inport pandas first\n",
    "import pandas as pd\n",
    "# We define first an array Aaverage\n",
    "n = np.size(t)\n",
    "Aaverage = np.zeros(n)\n",
    "Aaverage[0] = 0\n",
    "TotalAaverage = np.zeros(n)\n",
    "for i in range(1,n):\n",
    "    Aaverage[i] = (Vaverage[i]-Vaverage[i-1])/(t[i]-t[i-1])\n",
    "    TotalAaverage[i] = (Vaverage[i]-Vaverage[0])/(t[i]-t[0])\n",
    "data = {'t[s]': t,\n",
    "        'x[m]': x,\n",
    "        'v[m/s]': Vaverage,\n",
    "\t'Totvaver[m/s]': TotalVaverage,\n",
    "        'a[m/s^2]': Aaverage,\n",
    "\t'TotAaver[m/s]': TotalAaverage\n",
    "        }\n",
    "NewData = pd.DataFrame(data)\n",
    "display(NewData[0:n])"
   ]
  },
  {
   "cell_type": "markdown",
   "id": "95ef7cd0",
   "metadata": {
    "editable": true
   },
   "source": [
    "We see clearly from this table that the average velocity increases\n",
    "till approximately 60m. Then it is constant for another 20 meters\n",
    "before it starts to decrease. The average accelaration increases till\n",
    "he has reached the first 20 meters, then it starts decreasing. After 80\n",
    "meters we see clearly that he starts to slow down since the acceleration\n",
    "becomes negative.\n",
    "\n",
    "After $100$m we note also that the total average velocity is\n",
    "approximately 10.32 m/s and the total average acceleration is\n",
    "decreasing from its peak around 20m.\n",
    "\n",
    "The interesting question is how quickly Usain Bolt\n",
    "could have run if he had not slowed down during the last 20 meters. Can you find this\n",
    "based on the present analysis, that is the above table? Assume he kept\n",
    "a constant velocity like the one he had from 60m to 80m. How fast\n",
    "could he have run if he had kept the same velocity till he reached\n",
    "100m?"
   ]
  }
 ],
 "metadata": {
  "kernelspec": {
   "display_name": "teaching",
   "language": "python",
   "name": "teaching"
  },
  "language_info": {
   "codemirror_mode": {
    "name": "ipython",
    "version": 3
   },
   "file_extension": ".py",
   "mimetype": "text/x-python",
   "name": "python",
   "nbconvert_exporter": "python",
   "pygments_lexer": "ipython3",
   "version": "3.9.18"
  }
 },
 "nbformat": 4,
 "nbformat_minor": 5
}
